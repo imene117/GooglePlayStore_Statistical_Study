{
 "cells": [
  {
   "cell_type": "code",
   "execution_count": 1,
   "id": "347f7fa3-de89-4565-9d89-1647691c4ef7",
   "metadata": {},
   "outputs": [
    {
     "name": "stderr",
     "output_type": "stream",
     "text": [
      "<frozen importlib._bootstrap>:228: RuntimeWarning: scipy._lib.messagestream.MessageStream size changed, may indicate binary incompatibility. Expected 56 from C header, got 64 from PyObject\n"
     ]
    }
   ],
   "source": [
    "import numpy as np\n",
    "import pandas as pd\n",
    "from matplotlib import pyplot as plt\n",
    "%matplotlib inline\n",
    "\n",
    "import seaborn as sns\n",
    "import math\n",
    "import smtplib\n",
    "\n",
    "from sklearn.metrics import mean_squared_error\n",
    "# load dataset\n",
    "from pandas import read_csv\n",
    "\n",
    "from sklearn.model_selection import train_test_split\n",
    "\n",
    "\n",
    "from datetime import datetime\n",
    "from sklearn.metrics import confusion_matrix, cohen_kappa_score, classification_report\n",
    "\n",
    "from sklearn.linear_model import LogisticRegression\n",
    "from sklearn.ensemble import RandomForestClassifier\n",
    "\n",
    "\n",
    "from sklearn.metrics import jaccard_score\n",
    "from sklearn.metrics import f1_score\n",
    "from sklearn.metrics import log_loss\n",
    "from sklearn.metrics import accuracy_score\n",
    "from sklearn.metrics import precision_score\n",
    "from sklearn.metrics import recall_score\n",
    "from sklearn import preprocessing\n",
    "\n",
    "from sklearn import svm\n",
    "from sklearn.ensemble import AdaBoostClassifier\n",
    "from sklearn import ensemble\n",
    "from sklearn.neighbors import KNeighborsClassifier\n",
    "from scipy import stats\n"
   ]
  },
  {
   "cell_type": "code",
   "execution_count": null,
   "id": "bc9f8b9d-f118-4a53-97ae-b027247f26da",
   "metadata": {},
   "outputs": [],
   "source": [
    "'''\n",
    "Polarity is float which lies in the range of [-1,1] where 1 means positive statement and -1 means a negative statement. \n",
    "Subjective sentences generally refer to personal opinion, emotion or judgment whereas objective refers to factual information\n",
    "'''"
   ]
  },
  {
   "cell_type": "code",
   "execution_count": 2,
   "id": "9c617607-69bc-464c-8b51-3057f8799d0f",
   "metadata": {},
   "outputs": [],
   "source": [
    "gps_user_rev = pd.read_csv('googleplaystore_user_reviews.csv')\n",
    "gps = pd.read_csv('googleplaystore.csv')"
   ]
  },
  {
   "cell_type": "code",
   "execution_count": 3,
   "id": "39b767a8-d044-4a74-a9e6-c35893d679f0",
   "metadata": {},
   "outputs": [
    {
     "data": {
      "text/html": [
       "<div>\n",
       "<style scoped>\n",
       "    .dataframe tbody tr th:only-of-type {\n",
       "        vertical-align: middle;\n",
       "    }\n",
       "\n",
       "    .dataframe tbody tr th {\n",
       "        vertical-align: top;\n",
       "    }\n",
       "\n",
       "    .dataframe thead th {\n",
       "        text-align: right;\n",
       "    }\n",
       "</style>\n",
       "<table border=\"1\" class=\"dataframe\">\n",
       "  <thead>\n",
       "    <tr style=\"text-align: right;\">\n",
       "      <th></th>\n",
       "      <th>App</th>\n",
       "      <th>Translated_Review</th>\n",
       "      <th>Sentiment</th>\n",
       "      <th>Sentiment_Polarity</th>\n",
       "      <th>Sentiment_Subjectivity</th>\n",
       "    </tr>\n",
       "  </thead>\n",
       "  <tbody>\n",
       "    <tr>\n",
       "      <th>0</th>\n",
       "      <td>10 Best Foods for You</td>\n",
       "      <td>I like eat delicious food. That's I'm cooking ...</td>\n",
       "      <td>Positive</td>\n",
       "      <td>1.00</td>\n",
       "      <td>0.533333</td>\n",
       "    </tr>\n",
       "    <tr>\n",
       "      <th>1</th>\n",
       "      <td>10 Best Foods for You</td>\n",
       "      <td>This help eating healthy exercise regular basis</td>\n",
       "      <td>Positive</td>\n",
       "      <td>0.25</td>\n",
       "      <td>0.288462</td>\n",
       "    </tr>\n",
       "    <tr>\n",
       "      <th>2</th>\n",
       "      <td>10 Best Foods for You</td>\n",
       "      <td>NaN</td>\n",
       "      <td>NaN</td>\n",
       "      <td>NaN</td>\n",
       "      <td>NaN</td>\n",
       "    </tr>\n",
       "    <tr>\n",
       "      <th>3</th>\n",
       "      <td>10 Best Foods for You</td>\n",
       "      <td>Works great especially going grocery store</td>\n",
       "      <td>Positive</td>\n",
       "      <td>0.40</td>\n",
       "      <td>0.875000</td>\n",
       "    </tr>\n",
       "    <tr>\n",
       "      <th>4</th>\n",
       "      <td>10 Best Foods for You</td>\n",
       "      <td>Best idea us</td>\n",
       "      <td>Positive</td>\n",
       "      <td>1.00</td>\n",
       "      <td>0.300000</td>\n",
       "    </tr>\n",
       "  </tbody>\n",
       "</table>\n",
       "</div>"
      ],
      "text/plain": [
       "                     App                                  Translated_Review  \\\n",
       "0  10 Best Foods for You  I like eat delicious food. That's I'm cooking ...   \n",
       "1  10 Best Foods for You    This help eating healthy exercise regular basis   \n",
       "2  10 Best Foods for You                                                NaN   \n",
       "3  10 Best Foods for You         Works great especially going grocery store   \n",
       "4  10 Best Foods for You                                       Best idea us   \n",
       "\n",
       "  Sentiment  Sentiment_Polarity  Sentiment_Subjectivity  \n",
       "0  Positive                1.00                0.533333  \n",
       "1  Positive                0.25                0.288462  \n",
       "2       NaN                 NaN                     NaN  \n",
       "3  Positive                0.40                0.875000  \n",
       "4  Positive                1.00                0.300000  "
      ]
     },
     "execution_count": 3,
     "metadata": {},
     "output_type": "execute_result"
    }
   ],
   "source": [
    "gps_user_rev.head()"
   ]
  },
  {
   "cell_type": "code",
   "execution_count": 4,
   "id": "ec24a80b-089c-454a-8bde-d22224af85bc",
   "metadata": {},
   "outputs": [
    {
     "data": {
      "text/html": [
       "<div>\n",
       "<style scoped>\n",
       "    .dataframe tbody tr th:only-of-type {\n",
       "        vertical-align: middle;\n",
       "    }\n",
       "\n",
       "    .dataframe tbody tr th {\n",
       "        vertical-align: top;\n",
       "    }\n",
       "\n",
       "    .dataframe thead th {\n",
       "        text-align: right;\n",
       "    }\n",
       "</style>\n",
       "<table border=\"1\" class=\"dataframe\">\n",
       "  <thead>\n",
       "    <tr style=\"text-align: right;\">\n",
       "      <th></th>\n",
       "      <th>App</th>\n",
       "      <th>Category</th>\n",
       "      <th>Rating</th>\n",
       "      <th>Reviews</th>\n",
       "      <th>Size</th>\n",
       "      <th>Installs</th>\n",
       "      <th>Type</th>\n",
       "      <th>Price</th>\n",
       "      <th>Content Rating</th>\n",
       "      <th>Genres</th>\n",
       "      <th>Last Updated</th>\n",
       "      <th>Current Ver</th>\n",
       "      <th>Android Ver</th>\n",
       "    </tr>\n",
       "  </thead>\n",
       "  <tbody>\n",
       "    <tr>\n",
       "      <th>0</th>\n",
       "      <td>Photo Editor &amp; Candy Camera &amp; Grid &amp; ScrapBook</td>\n",
       "      <td>ART_AND_DESIGN</td>\n",
       "      <td>4.1</td>\n",
       "      <td>159</td>\n",
       "      <td>19M</td>\n",
       "      <td>10,000+</td>\n",
       "      <td>Free</td>\n",
       "      <td>0</td>\n",
       "      <td>Everyone</td>\n",
       "      <td>Art &amp; Design</td>\n",
       "      <td>January 7, 2018</td>\n",
       "      <td>1.0.0</td>\n",
       "      <td>4.0.3 and up</td>\n",
       "    </tr>\n",
       "    <tr>\n",
       "      <th>1</th>\n",
       "      <td>Coloring book moana</td>\n",
       "      <td>ART_AND_DESIGN</td>\n",
       "      <td>3.9</td>\n",
       "      <td>967</td>\n",
       "      <td>14M</td>\n",
       "      <td>500,000+</td>\n",
       "      <td>Free</td>\n",
       "      <td>0</td>\n",
       "      <td>Everyone</td>\n",
       "      <td>Art &amp; Design;Pretend Play</td>\n",
       "      <td>January 15, 2018</td>\n",
       "      <td>2.0.0</td>\n",
       "      <td>4.0.3 and up</td>\n",
       "    </tr>\n",
       "    <tr>\n",
       "      <th>2</th>\n",
       "      <td>U Launcher Lite – FREE Live Cool Themes, Hide ...</td>\n",
       "      <td>ART_AND_DESIGN</td>\n",
       "      <td>4.7</td>\n",
       "      <td>87510</td>\n",
       "      <td>8.7M</td>\n",
       "      <td>5,000,000+</td>\n",
       "      <td>Free</td>\n",
       "      <td>0</td>\n",
       "      <td>Everyone</td>\n",
       "      <td>Art &amp; Design</td>\n",
       "      <td>August 1, 2018</td>\n",
       "      <td>1.2.4</td>\n",
       "      <td>4.0.3 and up</td>\n",
       "    </tr>\n",
       "    <tr>\n",
       "      <th>3</th>\n",
       "      <td>Sketch - Draw &amp; Paint</td>\n",
       "      <td>ART_AND_DESIGN</td>\n",
       "      <td>4.5</td>\n",
       "      <td>215644</td>\n",
       "      <td>25M</td>\n",
       "      <td>50,000,000+</td>\n",
       "      <td>Free</td>\n",
       "      <td>0</td>\n",
       "      <td>Teen</td>\n",
       "      <td>Art &amp; Design</td>\n",
       "      <td>June 8, 2018</td>\n",
       "      <td>Varies with device</td>\n",
       "      <td>4.2 and up</td>\n",
       "    </tr>\n",
       "    <tr>\n",
       "      <th>4</th>\n",
       "      <td>Pixel Draw - Number Art Coloring Book</td>\n",
       "      <td>ART_AND_DESIGN</td>\n",
       "      <td>4.3</td>\n",
       "      <td>967</td>\n",
       "      <td>2.8M</td>\n",
       "      <td>100,000+</td>\n",
       "      <td>Free</td>\n",
       "      <td>0</td>\n",
       "      <td>Everyone</td>\n",
       "      <td>Art &amp; Design;Creativity</td>\n",
       "      <td>June 20, 2018</td>\n",
       "      <td>1.1</td>\n",
       "      <td>4.4 and up</td>\n",
       "    </tr>\n",
       "  </tbody>\n",
       "</table>\n",
       "</div>"
      ],
      "text/plain": [
       "                                                 App        Category  Rating  \\\n",
       "0     Photo Editor & Candy Camera & Grid & ScrapBook  ART_AND_DESIGN     4.1   \n",
       "1                                Coloring book moana  ART_AND_DESIGN     3.9   \n",
       "2  U Launcher Lite – FREE Live Cool Themes, Hide ...  ART_AND_DESIGN     4.7   \n",
       "3                              Sketch - Draw & Paint  ART_AND_DESIGN     4.5   \n",
       "4              Pixel Draw - Number Art Coloring Book  ART_AND_DESIGN     4.3   \n",
       "\n",
       "  Reviews  Size     Installs  Type Price Content Rating  \\\n",
       "0     159   19M      10,000+  Free     0       Everyone   \n",
       "1     967   14M     500,000+  Free     0       Everyone   \n",
       "2   87510  8.7M   5,000,000+  Free     0       Everyone   \n",
       "3  215644   25M  50,000,000+  Free     0           Teen   \n",
       "4     967  2.8M     100,000+  Free     0       Everyone   \n",
       "\n",
       "                      Genres      Last Updated         Current Ver  \\\n",
       "0               Art & Design   January 7, 2018               1.0.0   \n",
       "1  Art & Design;Pretend Play  January 15, 2018               2.0.0   \n",
       "2               Art & Design    August 1, 2018               1.2.4   \n",
       "3               Art & Design      June 8, 2018  Varies with device   \n",
       "4    Art & Design;Creativity     June 20, 2018                 1.1   \n",
       "\n",
       "    Android Ver  \n",
       "0  4.0.3 and up  \n",
       "1  4.0.3 and up  \n",
       "2  4.0.3 and up  \n",
       "3    4.2 and up  \n",
       "4    4.4 and up  "
      ]
     },
     "execution_count": 4,
     "metadata": {},
     "output_type": "execute_result"
    }
   ],
   "source": [
    "gps.head()"
   ]
  },
  {
   "cell_type": "code",
   "execution_count": null,
   "id": "38fd68da-fbd6-4a4b-9ca0-601904554b1b",
   "metadata": {},
   "outputs": [],
   "source": []
  },
  {
   "cell_type": "markdown",
   "id": "eeac5b3e-2060-42d9-934b-46b0324c2f00",
   "metadata": {
    "tags": []
   },
   "source": [
    "## Exploratory Analysis"
   ]
  },
  {
   "cell_type": "code",
   "execution_count": null,
   "id": "20e7edac-b526-4058-a791-d93a42f8d826",
   "metadata": {},
   "outputs": [],
   "source": [
    "'''\n",
    "gps_user_rev tab\n",
    "'''"
   ]
  },
  {
   "cell_type": "code",
   "execution_count": 5,
   "id": "8cbf23ec-fa83-4612-8b0f-c5052ad51380",
   "metadata": {},
   "outputs": [
    {
     "name": "stdout",
     "output_type": "stream",
     "text": [
      "<class 'pandas.core.frame.DataFrame'>\n",
      "RangeIndex: 64295 entries, 0 to 64294\n",
      "Data columns (total 5 columns):\n",
      " #   Column                  Non-Null Count  Dtype  \n",
      "---  ------                  --------------  -----  \n",
      " 0   App                     64295 non-null  object \n",
      " 1   Translated_Review       37427 non-null  object \n",
      " 2   Sentiment               37432 non-null  object \n",
      " 3   Sentiment_Polarity      37432 non-null  float64\n",
      " 4   Sentiment_Subjectivity  37432 non-null  float64\n",
      "dtypes: float64(2), object(3)\n",
      "memory usage: 2.5+ MB\n"
     ]
    }
   ],
   "source": [
    "gps_user_rev.info()"
   ]
  },
  {
   "cell_type": "markdown",
   "id": "a2419832-0ab1-40d2-b414-730443ca9a84",
   "metadata": {},
   "source": [
    "We are intrested by the sentiment (Positif, Negatif) in the reviews therefore we can drop the Translated_Review column"
   ]
  },
  {
   "cell_type": "code",
   "execution_count": 6,
   "id": "35ffa514-cc75-4f14-a6ff-79a2c55c20ad",
   "metadata": {},
   "outputs": [
    {
     "name": "stdout",
     "output_type": "stream",
     "text": [
      "distinct elements in each column: App                       1074\n",
      "Sentiment                    3\n",
      "Sentiment_Polarity        5410\n",
      "Sentiment_Subjectivity    4474\n",
      "dtype: int64\n"
     ]
    }
   ],
   "source": [
    "#Drop Translated_Review column\n",
    "gps_user_rev = gps_user_rev.drop(['Translated_Review'], axis=1)\n",
    "\n",
    "#distinct elements in each row\n",
    "print('distinct elements in each column:',gps_user_rev.nunique())\n"
   ]
  },
  {
   "cell_type": "code",
   "execution_count": 7,
   "id": "92f65a48-e596-4c2f-afdb-703e4cf861e8",
   "metadata": {},
   "outputs": [
    {
     "name": "stdout",
     "output_type": "stream",
     "text": [
      "missing data: App                           0\n",
      "Sentiment                 26863\n",
      "Sentiment_Polarity        26863\n",
      "Sentiment_Subjectivity    26863\n",
      "dtype: int64\n"
     ]
    }
   ],
   "source": [
    "#check missing data \n",
    "print('missing data:', gps_user_rev.isnull().sum())\n"
   ]
  },
  {
   "cell_type": "code",
   "execution_count": 8,
   "id": "58e09eff-c800-494e-b0f4-5da0d82a29f5",
   "metadata": {},
   "outputs": [
    {
     "data": {
      "text/plain": [
       "App                        0.000000\n",
       "Sentiment                 41.780854\n",
       "Sentiment_Polarity        41.780854\n",
       "Sentiment_Subjectivity    41.780854\n",
       "dtype: float64"
      ]
     },
     "execution_count": 8,
     "metadata": {},
     "output_type": "execute_result"
    }
   ],
   "source": [
    "#Proportion of missing values\n",
    "\n",
    "gps_user_rev.isnull().sum()/len(gps_user_rev)*100\n"
   ]
  },
  {
   "cell_type": "markdown",
   "id": "8d126739-4f54-4b2b-b6de-6ded12cfdf76",
   "metadata": {},
   "source": [
    "Almost half of the values are missing in **Sentiment**, **Sentiment_Polarity**, **Sentiment_Subjectivity** columns"
   ]
  },
  {
   "cell_type": "code",
   "execution_count": null,
   "id": "d7992b1f-464e-4ff5-86f8-c8bfdf7a801d",
   "metadata": {},
   "outputs": [],
   "source": [
    "#Understanding the missing values"
   ]
  },
  {
   "cell_type": "code",
   "execution_count": 9,
   "id": "df9c6d15-f6f3-46c1-b0b8-7adfffb43a11",
   "metadata": {},
   "outputs": [
    {
     "data": {
      "text/plain": [
       "Positive    0.641109\n",
       "Negative    0.220961\n",
       "Neutral     0.137930\n",
       "Name: Sentiment, dtype: float64"
      ]
     },
     "execution_count": 9,
     "metadata": {},
     "output_type": "execute_result"
    }
   ],
   "source": [
    "#Positif, Negatif proportions\n",
    "Pos_prop = gps_user_rev['Sentiment'].value_counts(normalize = True)\n",
    "Pos_nbrs = gps_user_rev['Sentiment'].value_counts(normalize = False)\n",
    "Pos_prop"
   ]
  },
  {
   "cell_type": "markdown",
   "id": "5a8c41d7-8c98-41f4-9bf9-0cff4e9df667",
   "metadata": {},
   "source": [
    "More than half of sentiment's column are **Positive**"
   ]
  },
  {
   "cell_type": "code",
   "execution_count": 10,
   "id": "995fda78-3cd8-44af-a57e-2cca8f12a013",
   "metadata": {},
   "outputs": [],
   "source": [
    "#Check if there are entire NaN rows"
   ]
  },
  {
   "cell_type": "code",
   "execution_count": 11,
   "id": "2c126619-d023-4a20-b082-5e4e80a2b714",
   "metadata": {},
   "outputs": [
    {
     "data": {
      "text/plain": [
       "(64295, 4)"
      ]
     },
     "execution_count": 11,
     "metadata": {},
     "output_type": "execute_result"
    }
   ],
   "source": [
    "gps_user_rev.shape"
   ]
  },
  {
   "cell_type": "code",
   "execution_count": 12,
   "id": "b8b8ab23-387e-4e5e-ae96-ca55ea5920d4",
   "metadata": {},
   "outputs": [],
   "source": [
    "gps_user_rev_dn = gps_user_rev.dropna(how='all')\n"
   ]
  },
  {
   "cell_type": "code",
   "execution_count": 13,
   "id": "67d505fc-da21-4496-a634-860bf811c235",
   "metadata": {},
   "outputs": [
    {
     "data": {
      "text/plain": [
       "(64295, 4)"
      ]
     },
     "execution_count": 13,
     "metadata": {},
     "output_type": "execute_result"
    }
   ],
   "source": [
    "gps_user_rev_dn.shape"
   ]
  },
  {
   "cell_type": "markdown",
   "id": "96783329-c291-40b0-b6e4-6e6d0df0ee4c",
   "metadata": {},
   "source": [
    "No NaN entire rows. Now let's check if there are entire NaN rows with non NaN values in App columns"
   ]
  },
  {
   "cell_type": "code",
   "execution_count": 14,
   "id": "9e7e3eef-c66f-4398-9ca4-8b9b94aacf5a",
   "metadata": {},
   "outputs": [],
   "source": [
    "gps_user_rev_dap = gps_user_rev.dropna(subset=['Sentiment','Sentiment_Polarity','Sentiment_Subjectivity'])\n"
   ]
  },
  {
   "cell_type": "code",
   "execution_count": 15,
   "id": "9d975478-4697-4e4b-ab28-2508921212f3",
   "metadata": {},
   "outputs": [
    {
     "data": {
      "text/plain": [
       "(37432, 4)"
      ]
     },
     "execution_count": 15,
     "metadata": {},
     "output_type": "execute_result"
    }
   ],
   "source": [
    "gps_user_rev_dap.shape"
   ]
  },
  {
   "cell_type": "markdown",
   "id": "066669e2-fb79-40b7-888b-76ed75c7565d",
   "metadata": {},
   "source": [
    "We droped 26863 rows that has only App name but no values in the other features"
   ]
  },
  {
   "cell_type": "code",
   "execution_count": 16,
   "id": "2c122a59-50e3-4641-a3c2-bf3535cb8ebd",
   "metadata": {},
   "outputs": [
    {
     "data": {
      "text/html": [
       "<div>\n",
       "<style scoped>\n",
       "    .dataframe tbody tr th:only-of-type {\n",
       "        vertical-align: middle;\n",
       "    }\n",
       "\n",
       "    .dataframe tbody tr th {\n",
       "        vertical-align: top;\n",
       "    }\n",
       "\n",
       "    .dataframe thead th {\n",
       "        text-align: right;\n",
       "    }\n",
       "</style>\n",
       "<table border=\"1\" class=\"dataframe\">\n",
       "  <thead>\n",
       "    <tr style=\"text-align: right;\">\n",
       "      <th></th>\n",
       "      <th>App</th>\n",
       "      <th>Sentiment</th>\n",
       "      <th>Sentiment_Polarity</th>\n",
       "      <th>Sentiment_Subjectivity</th>\n",
       "    </tr>\n",
       "  </thead>\n",
       "  <tbody>\n",
       "    <tr>\n",
       "      <th>0</th>\n",
       "      <td>10 Best Foods for You</td>\n",
       "      <td>Positive</td>\n",
       "      <td>1.00</td>\n",
       "      <td>0.533333</td>\n",
       "    </tr>\n",
       "    <tr>\n",
       "      <th>1</th>\n",
       "      <td>10 Best Foods for You</td>\n",
       "      <td>Positive</td>\n",
       "      <td>0.25</td>\n",
       "      <td>0.288462</td>\n",
       "    </tr>\n",
       "    <tr>\n",
       "      <th>3</th>\n",
       "      <td>10 Best Foods for You</td>\n",
       "      <td>Positive</td>\n",
       "      <td>0.40</td>\n",
       "      <td>0.875000</td>\n",
       "    </tr>\n",
       "    <tr>\n",
       "      <th>4</th>\n",
       "      <td>10 Best Foods for You</td>\n",
       "      <td>Positive</td>\n",
       "      <td>1.00</td>\n",
       "      <td>0.300000</td>\n",
       "    </tr>\n",
       "    <tr>\n",
       "      <th>5</th>\n",
       "      <td>10 Best Foods for You</td>\n",
       "      <td>Positive</td>\n",
       "      <td>1.00</td>\n",
       "      <td>0.300000</td>\n",
       "    </tr>\n",
       "  </tbody>\n",
       "</table>\n",
       "</div>"
      ],
      "text/plain": [
       "                     App Sentiment  Sentiment_Polarity  Sentiment_Subjectivity\n",
       "0  10 Best Foods for You  Positive                1.00                0.533333\n",
       "1  10 Best Foods for You  Positive                0.25                0.288462\n",
       "3  10 Best Foods for You  Positive                0.40                0.875000\n",
       "4  10 Best Foods for You  Positive                1.00                0.300000\n",
       "5  10 Best Foods for You  Positive                1.00                0.300000"
      ]
     },
     "execution_count": 16,
     "metadata": {},
     "output_type": "execute_result"
    }
   ],
   "source": [
    "gps_user_rev_dap.head()"
   ]
  },
  {
   "cell_type": "code",
   "execution_count": 17,
   "id": "319ec349-2d1d-401e-8d50-b5a01a686aa1",
   "metadata": {},
   "outputs": [
    {
     "data": {
      "text/plain": [
       "App                       0.0\n",
       "Sentiment                 0.0\n",
       "Sentiment_Polarity        0.0\n",
       "Sentiment_Subjectivity    0.0\n",
       "dtype: float64"
      ]
     },
     "execution_count": 17,
     "metadata": {},
     "output_type": "execute_result"
    }
   ],
   "source": [
    "gps_user_rev_dap.isnull().sum()/len(gps_user_rev)*100\n"
   ]
  },
  {
   "cell_type": "markdown",
   "id": "8defa43f-2ced-4fb3-825b-1f40c41124df",
   "metadata": {},
   "source": [
    "We have eliminated all the missing values "
   ]
  },
  {
   "cell_type": "code",
   "execution_count": 18,
   "id": "ea040945-0c1a-4659-837f-f71fbc7ecabb",
   "metadata": {},
   "outputs": [
    {
     "name": "stdout",
     "output_type": "stream",
     "text": [
      "12348\n"
     ]
    }
   ],
   "source": [
    "#Cheking duplicate rows\n",
    "print(gps_user_rev_dap.duplicated().sum())"
   ]
  },
  {
   "cell_type": "code",
   "execution_count": 19,
   "id": "b199ac95-19ff-4dc0-8a46-777eeb3fee34",
   "metadata": {},
   "outputs": [],
   "source": [
    "#Remove duplicate rows\n",
    "gps_user_rev = gps_user_rev_dap.drop_duplicates()"
   ]
  },
  {
   "cell_type": "code",
   "execution_count": 20,
   "id": "e22864e3-97b0-4edd-9bca-078d1d112306",
   "metadata": {},
   "outputs": [],
   "source": [
    "import matplotlib.colors as mcolors\n",
    "#as .py file"
   ]
  },
  {
   "cell_type": "code",
   "execution_count": 21,
   "id": "092d6ce0-20e2-49f8-8271-620ad60b2d6b",
   "metadata": {},
   "outputs": [],
   "source": [
    "#draw_histograms(gps_user_rev_dap,gps_user_rev_dap.columns,2,2)"
   ]
  },
  {
   "cell_type": "code",
   "execution_count": null,
   "id": "47fbcb5c-6d55-47fa-8ae8-2d5145c7d74f",
   "metadata": {},
   "outputs": [],
   "source": []
  },
  {
   "cell_type": "code",
   "execution_count": null,
   "id": "6c815935-6097-4c7c-a201-3d179cf4a8ba",
   "metadata": {},
   "outputs": [],
   "source": [
    "'''\n",
    "gps column\n",
    "'''"
   ]
  },
  {
   "cell_type": "code",
   "execution_count": 22,
   "id": "f164b2a8-7e78-44f6-986a-227bda707c0d",
   "metadata": {},
   "outputs": [
    {
     "name": "stdout",
     "output_type": "stream",
     "text": [
      "<class 'pandas.core.frame.DataFrame'>\n",
      "RangeIndex: 10841 entries, 0 to 10840\n",
      "Data columns (total 13 columns):\n",
      " #   Column          Non-Null Count  Dtype  \n",
      "---  ------          --------------  -----  \n",
      " 0   App             10841 non-null  object \n",
      " 1   Category        10841 non-null  object \n",
      " 2   Rating          9367 non-null   float64\n",
      " 3   Reviews         10841 non-null  object \n",
      " 4   Size            10841 non-null  object \n",
      " 5   Installs        10841 non-null  object \n",
      " 6   Type            10840 non-null  object \n",
      " 7   Price           10841 non-null  object \n",
      " 8   Content Rating  10840 non-null  object \n",
      " 9   Genres          10841 non-null  object \n",
      " 10  Last Updated    10841 non-null  object \n",
      " 11  Current Ver     10833 non-null  object \n",
      " 12  Android Ver     10838 non-null  object \n",
      "dtypes: float64(1), object(12)\n",
      "memory usage: 1.1+ MB\n"
     ]
    }
   ],
   "source": [
    "gps.info()"
   ]
  },
  {
   "cell_type": "code",
   "execution_count": 23,
   "id": "02a3594e-d100-46ac-8fcb-f6b072e19910",
   "metadata": {},
   "outputs": [
    {
     "data": {
      "text/plain": [
       "App                  0\n",
       "Category             0\n",
       "Rating            1474\n",
       "Reviews              0\n",
       "Size                 0\n",
       "Installs             0\n",
       "Type                 1\n",
       "Price                0\n",
       "Content Rating       1\n",
       "Genres               0\n",
       "Last Updated         0\n",
       "Current Ver          8\n",
       "Android Ver          3\n",
       "dtype: int64"
      ]
     },
     "execution_count": 23,
     "metadata": {},
     "output_type": "execute_result"
    }
   ],
   "source": [
    "# missing data \n",
    "gps.isnull().sum()\n"
   ]
  },
  {
   "cell_type": "code",
   "execution_count": 24,
   "id": "eeaca474-b601-419f-bc23-9cc7f3d09259",
   "metadata": {},
   "outputs": [
    {
     "data": {
      "text/plain": [
       "App                0.000000\n",
       "Category           0.000000\n",
       "Rating            13.596532\n",
       "Reviews            0.000000\n",
       "Size               0.000000\n",
       "Installs           0.000000\n",
       "Type               0.009224\n",
       "Price              0.000000\n",
       "Content Rating     0.009224\n",
       "Genres             0.000000\n",
       "Last Updated       0.000000\n",
       "Current Ver        0.073794\n",
       "Android Ver        0.027673\n",
       "dtype: float64"
      ]
     },
     "execution_count": 24,
     "metadata": {},
     "output_type": "execute_result"
    }
   ],
   "source": [
    "\n",
    "gps.isnull().sum()/len(gps)*100\n"
   ]
  },
  {
   "cell_type": "code",
   "execution_count": 25,
   "id": "3b8ecebf-2b3c-4e60-b1e4-f4433d12e984",
   "metadata": {},
   "outputs": [
    {
     "data": {
      "text/plain": [
       "(10841, 13)"
      ]
     },
     "execution_count": 25,
     "metadata": {},
     "output_type": "execute_result"
    }
   ],
   "source": [
    "gps.shape"
   ]
  },
  {
   "cell_type": "code",
   "execution_count": 26,
   "id": "2e109417-0d75-4ee6-b497-f8c713a72b90",
   "metadata": {},
   "outputs": [],
   "source": [
    "#Handling missing data in Rating column, we use linear interpolation, \n",
    "#we assume time doesn't influence the rating\n",
    "gps_new = gps.interpolate()\n"
   ]
  },
  {
   "cell_type": "code",
   "execution_count": 27,
   "id": "e4356369-21de-4e3a-a771-2bc412110c9f",
   "metadata": {},
   "outputs": [
    {
     "data": {
      "text/plain": [
       "(10841, 13)"
      ]
     },
     "execution_count": 27,
     "metadata": {},
     "output_type": "execute_result"
    }
   ],
   "source": [
    "gps_new.shape"
   ]
  },
  {
   "cell_type": "markdown",
   "id": "ef4744d9-24d0-4621-af95-296146c89642",
   "metadata": {},
   "source": [
    "## gps_new column exploration "
   ]
  },
  {
   "cell_type": "code",
   "execution_count": 28,
   "id": "fd087c77-02f7-4336-a633-5b3e69c25765",
   "metadata": {},
   "outputs": [
    {
     "data": {
      "text/plain": [
       "App               9660\n",
       "Category            34\n",
       "Rating             327\n",
       "Reviews           6002\n",
       "Size               462\n",
       "Installs            22\n",
       "Type                 3\n",
       "Price               93\n",
       "Content Rating       6\n",
       "Genres             120\n",
       "Last Updated      1378\n",
       "Current Ver       2832\n",
       "Android Ver         33\n",
       "dtype: int64"
      ]
     },
     "execution_count": 28,
     "metadata": {},
     "output_type": "execute_result"
    }
   ],
   "source": [
    "#Count Unique Values in each column\n",
    "gps_new.nunique()\n"
   ]
  },
  {
   "cell_type": "code",
   "execution_count": 29,
   "id": "6398b129-b668-4ed8-bbb4-0c3061cd18ee",
   "metadata": {},
   "outputs": [
    {
     "data": {
      "text/plain": [
       "Free    10039\n",
       "Paid      800\n",
       "0           1\n",
       "Name: Type, dtype: int64"
      ]
     },
     "execution_count": 29,
     "metadata": {},
     "output_type": "execute_result"
    }
   ],
   "source": [
    "#Type column\n",
    "gps_new.Type.value_counts()"
   ]
  },
  {
   "cell_type": "code",
   "execution_count": 30,
   "id": "fe1b4b76-b280-4043-a2c1-22367ac2689d",
   "metadata": {},
   "outputs": [
    {
     "name": "stdout",
     "output_type": "stream",
     "text": [
      "474\n"
     ]
    }
   ],
   "source": [
    "#Nbr of duplicating rows\n",
    "print(gps_new.duplicated().sum())"
   ]
  },
  {
   "cell_type": "code",
   "execution_count": 31,
   "id": "ea1c0dd7-ac82-4b25-a1e9-c3bd8bac09a8",
   "metadata": {},
   "outputs": [],
   "source": [
    "#Remove duplicate rows\n",
    "gps_new = gps_new.drop_duplicates()"
   ]
  },
  {
   "cell_type": "code",
   "execution_count": 32,
   "id": "8fc462d6-e912-4da4-ab43-ca1eb59e8e64",
   "metadata": {},
   "outputs": [
    {
     "data": {
      "text/plain": [
       "(10367, 13)"
      ]
     },
     "execution_count": 32,
     "metadata": {},
     "output_type": "execute_result"
    }
   ],
   "source": [
    "gps_new.shape"
   ]
  },
  {
   "cell_type": "code",
   "execution_count": 33,
   "id": "b1d2e7cc-ed89-4d42-ac64-bddf02e9cdb3",
   "metadata": {},
   "outputs": [
    {
     "data": {
      "text/plain": [
       "App               9660\n",
       "Category            34\n",
       "Rating             327\n",
       "Reviews           6002\n",
       "Size               462\n",
       "Installs            22\n",
       "Type                 3\n",
       "Price               93\n",
       "Content Rating       6\n",
       "Genres             120\n",
       "Last Updated      1378\n",
       "Current Ver       2832\n",
       "Android Ver         33\n",
       "dtype: int64"
      ]
     },
     "execution_count": 33,
     "metadata": {},
     "output_type": "execute_result"
    }
   ],
   "source": [
    "gps_new.nunique()\n"
   ]
  },
  {
   "cell_type": "code",
   "execution_count": 34,
   "id": "460b091a-7041-4e4b-87a8-03ae025ad4a1",
   "metadata": {},
   "outputs": [],
   "source": [
    "#Category col"
   ]
  },
  {
   "cell_type": "code",
   "execution_count": 35,
   "id": "abf78341-23f3-4919-8b2d-05273535abbd",
   "metadata": {},
   "outputs": [
    {
     "data": {
      "text/plain": [
       "array(['ART_AND_DESIGN', 'AUTO_AND_VEHICLES', 'BEAUTY',\n",
       "       'BOOKS_AND_REFERENCE', 'BUSINESS', 'COMICS', 'COMMUNICATION',\n",
       "       'DATING', 'EDUCATION', 'ENTERTAINMENT', 'EVENTS', 'FINANCE',\n",
       "       'FOOD_AND_DRINK', 'HEALTH_AND_FITNESS', 'HOUSE_AND_HOME',\n",
       "       'LIBRARIES_AND_DEMO', 'LIFESTYLE', 'GAME', 'FAMILY', 'MEDICAL',\n",
       "       'SOCIAL', 'SHOPPING', 'PHOTOGRAPHY', 'SPORTS', 'TRAVEL_AND_LOCAL',\n",
       "       'TOOLS', 'PERSONALIZATION', 'PRODUCTIVITY', 'PARENTING', 'WEATHER',\n",
       "       'VIDEO_PLAYERS', 'NEWS_AND_MAGAZINES', 'MAPS_AND_NAVIGATION',\n",
       "       '1.9'], dtype=object)"
      ]
     },
     "execution_count": 35,
     "metadata": {},
     "output_type": "execute_result"
    }
   ],
   "source": [
    "gps_new['Category'].unique()"
   ]
  },
  {
   "cell_type": "code",
   "execution_count": 36,
   "id": "a5ff284f-509a-4e07-9119-46c8bc2ac14d",
   "metadata": {},
   "outputs": [
    {
     "name": "stdout",
     "output_type": "stream",
     "text": [
      "                        Rating             \n",
      "                          mean    min   max\n",
      "Category                                   \n",
      "1.9                  19.000000  19.00  19.0\n",
      "ART_AND_DESIGN        4.358462   3.20   5.0\n",
      "AUTO_AND_VEHICLES     4.183471   2.10   4.9\n",
      "BEAUTY                4.234277   2.50   4.9\n",
      "BOOKS_AND_REFERENCE   4.293754   2.70   5.0\n",
      "BUSINESS              4.127733   1.00   5.0\n",
      "COMICS                4.170000   2.80   5.0\n",
      "COMMUNICATION         4.160827   1.00   5.0\n",
      "DATING                3.964394   1.00   5.0\n",
      "EDUCATION             4.377692   3.50   4.9\n",
      "ENTERTAINMENT         4.136036   3.00   4.7\n",
      "EVENTS                4.411477   2.90   5.0\n",
      "FAMILY                4.193805   1.00   5.0\n",
      "FINANCE               4.140823   1.00   5.0\n",
      "FOOD_AND_DRINK        4.177650   1.70   5.0\n",
      "GAME                  4.278248   1.00   5.0\n",
      "HEALTH_AND_FITNESS    4.244336   1.40   5.0\n",
      "HOUSE_AND_HOME        4.173854   2.80   4.8\n",
      "LIBRARIES_AND_DEMO    4.186863   3.10   5.0\n",
      "LIFESTYLE             4.114830   1.50   5.0\n",
      "MAPS_AND_NAVIGATION   4.057214   1.90   4.9\n",
      "MEDICAL               4.168614   1.00   5.0\n",
      "NEWS_AND_MAGAZINES    4.126845   1.70   5.0\n",
      "PARENTING             4.304167   2.00   5.0\n",
      "PERSONALIZATION       4.306628   1.64   5.0\n",
      "PHOTOGRAPHY           4.174825   2.00   5.0\n",
      "PRODUCTIVITY          4.188454   1.00   5.0\n",
      "SHOPPING              4.252261   1.60   5.0\n",
      "SOCIAL                4.268039   1.90   5.0\n",
      "SPORTS                4.233038   1.50   5.0\n",
      "TOOLS                 4.061673   1.00   5.0\n",
      "TRAVEL_AND_LOCAL      4.109907   2.20   5.0\n",
      "VIDEO_PLAYERS         4.074728   1.80   4.9\n",
      "WEATHER               4.241531   3.30   4.8\n"
     ]
    }
   ],
   "source": [
    "grouped_cat = gps_new.groupby('Category').agg({'Rating': ['mean', 'min', 'max']})\n",
    "\n",
    "print(grouped_cat)\n",
    "\n"
   ]
  },
  {
   "cell_type": "code",
   "execution_count": 37,
   "id": "b1aefba5-59e7-454e-b4cb-61462fabcb6e",
   "metadata": {},
   "outputs": [
    {
     "data": {
      "text/plain": [
       "MultiIndex([('Rating', 'mean'),\n",
       "            ('Rating',  'min'),\n",
       "            ('Rating',  'max')],\n",
       "           )"
      ]
     },
     "execution_count": 37,
     "metadata": {},
     "output_type": "execute_result"
    }
   ],
   "source": [
    "grouped_cat.columns"
   ]
  },
  {
   "cell_type": "code",
   "execution_count": 38,
   "id": "bdea0ecb-e530-43ff-b658-fa0225f10859",
   "metadata": {},
   "outputs": [
    {
     "data": {
      "text/html": [
       "<div>\n",
       "<style scoped>\n",
       "    .dataframe tbody tr th:only-of-type {\n",
       "        vertical-align: middle;\n",
       "    }\n",
       "\n",
       "    .dataframe tbody tr th {\n",
       "        vertical-align: top;\n",
       "    }\n",
       "\n",
       "    .dataframe thead tr th {\n",
       "        text-align: left;\n",
       "    }\n",
       "\n",
       "    .dataframe thead tr:last-of-type th {\n",
       "        text-align: right;\n",
       "    }\n",
       "</style>\n",
       "<table border=\"1\" class=\"dataframe\">\n",
       "  <thead>\n",
       "    <tr>\n",
       "      <th></th>\n",
       "      <th colspan=\"3\" halign=\"left\">Rating</th>\n",
       "    </tr>\n",
       "    <tr>\n",
       "      <th></th>\n",
       "      <th>mean</th>\n",
       "      <th>min</th>\n",
       "      <th>max</th>\n",
       "    </tr>\n",
       "    <tr>\n",
       "      <th>Category</th>\n",
       "      <th></th>\n",
       "      <th></th>\n",
       "      <th></th>\n",
       "    </tr>\n",
       "  </thead>\n",
       "  <tbody>\n",
       "    <tr>\n",
       "      <th>DATING</th>\n",
       "      <td>3.964394</td>\n",
       "      <td>1.00</td>\n",
       "      <td>5.0</td>\n",
       "    </tr>\n",
       "    <tr>\n",
       "      <th>MAPS_AND_NAVIGATION</th>\n",
       "      <td>4.057214</td>\n",
       "      <td>1.90</td>\n",
       "      <td>4.9</td>\n",
       "    </tr>\n",
       "    <tr>\n",
       "      <th>TOOLS</th>\n",
       "      <td>4.061673</td>\n",
       "      <td>1.00</td>\n",
       "      <td>5.0</td>\n",
       "    </tr>\n",
       "    <tr>\n",
       "      <th>VIDEO_PLAYERS</th>\n",
       "      <td>4.074728</td>\n",
       "      <td>1.80</td>\n",
       "      <td>4.9</td>\n",
       "    </tr>\n",
       "    <tr>\n",
       "      <th>TRAVEL_AND_LOCAL</th>\n",
       "      <td>4.109907</td>\n",
       "      <td>2.20</td>\n",
       "      <td>5.0</td>\n",
       "    </tr>\n",
       "    <tr>\n",
       "      <th>LIFESTYLE</th>\n",
       "      <td>4.114830</td>\n",
       "      <td>1.50</td>\n",
       "      <td>5.0</td>\n",
       "    </tr>\n",
       "    <tr>\n",
       "      <th>NEWS_AND_MAGAZINES</th>\n",
       "      <td>4.126845</td>\n",
       "      <td>1.70</td>\n",
       "      <td>5.0</td>\n",
       "    </tr>\n",
       "    <tr>\n",
       "      <th>BUSINESS</th>\n",
       "      <td>4.127733</td>\n",
       "      <td>1.00</td>\n",
       "      <td>5.0</td>\n",
       "    </tr>\n",
       "    <tr>\n",
       "      <th>ENTERTAINMENT</th>\n",
       "      <td>4.136036</td>\n",
       "      <td>3.00</td>\n",
       "      <td>4.7</td>\n",
       "    </tr>\n",
       "    <tr>\n",
       "      <th>FINANCE</th>\n",
       "      <td>4.140823</td>\n",
       "      <td>1.00</td>\n",
       "      <td>5.0</td>\n",
       "    </tr>\n",
       "    <tr>\n",
       "      <th>COMMUNICATION</th>\n",
       "      <td>4.160827</td>\n",
       "      <td>1.00</td>\n",
       "      <td>5.0</td>\n",
       "    </tr>\n",
       "    <tr>\n",
       "      <th>MEDICAL</th>\n",
       "      <td>4.168614</td>\n",
       "      <td>1.00</td>\n",
       "      <td>5.0</td>\n",
       "    </tr>\n",
       "    <tr>\n",
       "      <th>COMICS</th>\n",
       "      <td>4.170000</td>\n",
       "      <td>2.80</td>\n",
       "      <td>5.0</td>\n",
       "    </tr>\n",
       "    <tr>\n",
       "      <th>HOUSE_AND_HOME</th>\n",
       "      <td>4.173854</td>\n",
       "      <td>2.80</td>\n",
       "      <td>4.8</td>\n",
       "    </tr>\n",
       "    <tr>\n",
       "      <th>PHOTOGRAPHY</th>\n",
       "      <td>4.174825</td>\n",
       "      <td>2.00</td>\n",
       "      <td>5.0</td>\n",
       "    </tr>\n",
       "    <tr>\n",
       "      <th>FOOD_AND_DRINK</th>\n",
       "      <td>4.177650</td>\n",
       "      <td>1.70</td>\n",
       "      <td>5.0</td>\n",
       "    </tr>\n",
       "    <tr>\n",
       "      <th>AUTO_AND_VEHICLES</th>\n",
       "      <td>4.183471</td>\n",
       "      <td>2.10</td>\n",
       "      <td>4.9</td>\n",
       "    </tr>\n",
       "    <tr>\n",
       "      <th>LIBRARIES_AND_DEMO</th>\n",
       "      <td>4.186863</td>\n",
       "      <td>3.10</td>\n",
       "      <td>5.0</td>\n",
       "    </tr>\n",
       "    <tr>\n",
       "      <th>PRODUCTIVITY</th>\n",
       "      <td>4.188454</td>\n",
       "      <td>1.00</td>\n",
       "      <td>5.0</td>\n",
       "    </tr>\n",
       "    <tr>\n",
       "      <th>FAMILY</th>\n",
       "      <td>4.193805</td>\n",
       "      <td>1.00</td>\n",
       "      <td>5.0</td>\n",
       "    </tr>\n",
       "    <tr>\n",
       "      <th>SPORTS</th>\n",
       "      <td>4.233038</td>\n",
       "      <td>1.50</td>\n",
       "      <td>5.0</td>\n",
       "    </tr>\n",
       "    <tr>\n",
       "      <th>BEAUTY</th>\n",
       "      <td>4.234277</td>\n",
       "      <td>2.50</td>\n",
       "      <td>4.9</td>\n",
       "    </tr>\n",
       "    <tr>\n",
       "      <th>WEATHER</th>\n",
       "      <td>4.241531</td>\n",
       "      <td>3.30</td>\n",
       "      <td>4.8</td>\n",
       "    </tr>\n",
       "    <tr>\n",
       "      <th>HEALTH_AND_FITNESS</th>\n",
       "      <td>4.244336</td>\n",
       "      <td>1.40</td>\n",
       "      <td>5.0</td>\n",
       "    </tr>\n",
       "    <tr>\n",
       "      <th>SHOPPING</th>\n",
       "      <td>4.252261</td>\n",
       "      <td>1.60</td>\n",
       "      <td>5.0</td>\n",
       "    </tr>\n",
       "    <tr>\n",
       "      <th>SOCIAL</th>\n",
       "      <td>4.268039</td>\n",
       "      <td>1.90</td>\n",
       "      <td>5.0</td>\n",
       "    </tr>\n",
       "    <tr>\n",
       "      <th>GAME</th>\n",
       "      <td>4.278248</td>\n",
       "      <td>1.00</td>\n",
       "      <td>5.0</td>\n",
       "    </tr>\n",
       "    <tr>\n",
       "      <th>BOOKS_AND_REFERENCE</th>\n",
       "      <td>4.293754</td>\n",
       "      <td>2.70</td>\n",
       "      <td>5.0</td>\n",
       "    </tr>\n",
       "    <tr>\n",
       "      <th>PARENTING</th>\n",
       "      <td>4.304167</td>\n",
       "      <td>2.00</td>\n",
       "      <td>5.0</td>\n",
       "    </tr>\n",
       "    <tr>\n",
       "      <th>PERSONALIZATION</th>\n",
       "      <td>4.306628</td>\n",
       "      <td>1.64</td>\n",
       "      <td>5.0</td>\n",
       "    </tr>\n",
       "    <tr>\n",
       "      <th>ART_AND_DESIGN</th>\n",
       "      <td>4.358462</td>\n",
       "      <td>3.20</td>\n",
       "      <td>5.0</td>\n",
       "    </tr>\n",
       "    <tr>\n",
       "      <th>EDUCATION</th>\n",
       "      <td>4.377692</td>\n",
       "      <td>3.50</td>\n",
       "      <td>4.9</td>\n",
       "    </tr>\n",
       "    <tr>\n",
       "      <th>EVENTS</th>\n",
       "      <td>4.411477</td>\n",
       "      <td>2.90</td>\n",
       "      <td>5.0</td>\n",
       "    </tr>\n",
       "    <tr>\n",
       "      <th>1.9</th>\n",
       "      <td>19.000000</td>\n",
       "      <td>19.00</td>\n",
       "      <td>19.0</td>\n",
       "    </tr>\n",
       "  </tbody>\n",
       "</table>\n",
       "</div>"
      ],
      "text/plain": [
       "                        Rating             \n",
       "                          mean    min   max\n",
       "Category                                   \n",
       "DATING                3.964394   1.00   5.0\n",
       "MAPS_AND_NAVIGATION   4.057214   1.90   4.9\n",
       "TOOLS                 4.061673   1.00   5.0\n",
       "VIDEO_PLAYERS         4.074728   1.80   4.9\n",
       "TRAVEL_AND_LOCAL      4.109907   2.20   5.0\n",
       "LIFESTYLE             4.114830   1.50   5.0\n",
       "NEWS_AND_MAGAZINES    4.126845   1.70   5.0\n",
       "BUSINESS              4.127733   1.00   5.0\n",
       "ENTERTAINMENT         4.136036   3.00   4.7\n",
       "FINANCE               4.140823   1.00   5.0\n",
       "COMMUNICATION         4.160827   1.00   5.0\n",
       "MEDICAL               4.168614   1.00   5.0\n",
       "COMICS                4.170000   2.80   5.0\n",
       "HOUSE_AND_HOME        4.173854   2.80   4.8\n",
       "PHOTOGRAPHY           4.174825   2.00   5.0\n",
       "FOOD_AND_DRINK        4.177650   1.70   5.0\n",
       "AUTO_AND_VEHICLES     4.183471   2.10   4.9\n",
       "LIBRARIES_AND_DEMO    4.186863   3.10   5.0\n",
       "PRODUCTIVITY          4.188454   1.00   5.0\n",
       "FAMILY                4.193805   1.00   5.0\n",
       "SPORTS                4.233038   1.50   5.0\n",
       "BEAUTY                4.234277   2.50   4.9\n",
       "WEATHER               4.241531   3.30   4.8\n",
       "HEALTH_AND_FITNESS    4.244336   1.40   5.0\n",
       "SHOPPING              4.252261   1.60   5.0\n",
       "SOCIAL                4.268039   1.90   5.0\n",
       "GAME                  4.278248   1.00   5.0\n",
       "BOOKS_AND_REFERENCE   4.293754   2.70   5.0\n",
       "PARENTING             4.304167   2.00   5.0\n",
       "PERSONALIZATION       4.306628   1.64   5.0\n",
       "ART_AND_DESIGN        4.358462   3.20   5.0\n",
       "EDUCATION             4.377692   3.50   4.9\n",
       "EVENTS                4.411477   2.90   5.0\n",
       "1.9                  19.000000  19.00  19.0"
      ]
     },
     "execution_count": 38,
     "metadata": {},
     "output_type": "execute_result"
    }
   ],
   "source": [
    "grouped_cat.sort_values(by=('Rating', 'mean'))"
   ]
  },
  {
   "cell_type": "markdown",
   "id": "f003440f-d7f3-4b35-9ff2-27fb7ef91034",
   "metadata": {},
   "source": [
    "Since we're note sure about the nature of the Category 1.9, we'll remove it from the data frame"
   ]
  },
  {
   "cell_type": "code",
   "execution_count": 39,
   "id": "1ea6a3bc-9b96-4e71-8433-613074e1a2c2",
   "metadata": {},
   "outputs": [],
   "source": [
    "gps_new = gps_new[gps_new['Category'] != '1.9']\n"
   ]
  },
  {
   "cell_type": "code",
   "execution_count": 40,
   "id": "7c2e230a-c048-4c2d-aa3f-41dfd76d2096",
   "metadata": {},
   "outputs": [
    {
     "data": {
      "text/plain": [
       "FAMILY                 1943\n",
       "GAME                   1121\n",
       "TOOLS                   843\n",
       "BUSINESS                427\n",
       "MEDICAL                 415\n",
       "PRODUCTIVITY            407\n",
       "PERSONALIZATION         388\n",
       "LIFESTYLE               373\n",
       "COMMUNICATION           366\n",
       "FINANCE                 360\n",
       "SPORTS                  351\n",
       "PHOTOGRAPHY             322\n",
       "HEALTH_AND_FITNESS      306\n",
       "SOCIAL                  280\n",
       "NEWS_AND_MAGAZINES      264\n",
       "TRAVEL_AND_LOCAL        237\n",
       "BOOKS_AND_REFERENCE     230\n",
       "SHOPPING                224\n",
       "DATING                  198\n",
       "VIDEO_PLAYERS           175\n",
       "MAPS_AND_NAVIGATION     137\n",
       "EDUCATION               130\n",
       "FOOD_AND_DRINK          124\n",
       "ENTERTAINMENT           111\n",
       "AUTO_AND_VEHICLES        85\n",
       "LIBRARIES_AND_DEMO       85\n",
       "WEATHER                  82\n",
       "HOUSE_AND_HOME           80\n",
       "ART_AND_DESIGN           65\n",
       "EVENTS                   64\n",
       "PARENTING                60\n",
       "COMICS                   60\n",
       "BEAUTY                   53\n",
       "Name: Category, dtype: int64"
      ]
     },
     "execution_count": 40,
     "metadata": {},
     "output_type": "execute_result"
    }
   ],
   "source": [
    "gps_new.Category.value_counts()"
   ]
  },
  {
   "cell_type": "code",
   "execution_count": 41,
   "id": "64ef07bd-4b1d-4826-99f3-4dcdaa7b6ed4",
   "metadata": {},
   "outputs": [],
   "source": [
    "#Price column\n"
   ]
  },
  {
   "cell_type": "code",
   "execution_count": 42,
   "id": "abdd21d9-86ac-4325-93fd-af8d4c7aa7b4",
   "metadata": {},
   "outputs": [
    {
     "data": {
      "text/plain": [
       "App                object\n",
       "Category           object\n",
       "Rating            float64\n",
       "Reviews            object\n",
       "Size               object\n",
       "Installs           object\n",
       "Type               object\n",
       "Price              object\n",
       "Content Rating     object\n",
       "Genres             object\n",
       "Last Updated       object\n",
       "Current Ver        object\n",
       "Android Ver        object\n",
       "dtype: object"
      ]
     },
     "execution_count": 42,
     "metadata": {},
     "output_type": "execute_result"
    }
   ],
   "source": [
    "gps_new.dtypes"
   ]
  },
  {
   "cell_type": "code",
   "execution_count": 43,
   "id": "3c3cba9d-a106-4599-b006-85332f52eb5b",
   "metadata": {},
   "outputs": [
    {
     "data": {
      "text/html": [
       "<div>\n",
       "<style scoped>\n",
       "    .dataframe tbody tr th:only-of-type {\n",
       "        vertical-align: middle;\n",
       "    }\n",
       "\n",
       "    .dataframe tbody tr th {\n",
       "        vertical-align: top;\n",
       "    }\n",
       "\n",
       "    .dataframe thead th {\n",
       "        text-align: right;\n",
       "    }\n",
       "</style>\n",
       "<table border=\"1\" class=\"dataframe\">\n",
       "  <thead>\n",
       "    <tr style=\"text-align: right;\">\n",
       "      <th></th>\n",
       "      <th>App</th>\n",
       "      <th>Category</th>\n",
       "      <th>Rating</th>\n",
       "      <th>Reviews</th>\n",
       "      <th>Size</th>\n",
       "      <th>Installs</th>\n",
       "      <th>Type</th>\n",
       "      <th>Price</th>\n",
       "      <th>Content Rating</th>\n",
       "      <th>Genres</th>\n",
       "      <th>Last Updated</th>\n",
       "      <th>Current Ver</th>\n",
       "      <th>Android Ver</th>\n",
       "    </tr>\n",
       "  </thead>\n",
       "  <tbody>\n",
       "    <tr>\n",
       "      <th>234</th>\n",
       "      <td>TurboScan: scan documents and receipts in PDF</td>\n",
       "      <td>BUSINESS</td>\n",
       "      <td>4.7</td>\n",
       "      <td>11442</td>\n",
       "      <td>6.8M</td>\n",
       "      <td>100,000+</td>\n",
       "      <td>Paid</td>\n",
       "      <td>$4.99</td>\n",
       "      <td>Everyone</td>\n",
       "      <td>Business</td>\n",
       "      <td>March 25, 2018</td>\n",
       "      <td>1.5.2</td>\n",
       "      <td>4.0 and up</td>\n",
       "    </tr>\n",
       "    <tr>\n",
       "      <th>235</th>\n",
       "      <td>Tiny Scanner Pro: PDF Doc Scan</td>\n",
       "      <td>BUSINESS</td>\n",
       "      <td>4.8</td>\n",
       "      <td>10295</td>\n",
       "      <td>39M</td>\n",
       "      <td>100,000+</td>\n",
       "      <td>Paid</td>\n",
       "      <td>$4.99</td>\n",
       "      <td>Everyone</td>\n",
       "      <td>Business</td>\n",
       "      <td>April 11, 2017</td>\n",
       "      <td>3.4.6</td>\n",
       "      <td>3.0 and up</td>\n",
       "    </tr>\n",
       "    <tr>\n",
       "      <th>427</th>\n",
       "      <td>Puffin Browser Pro</td>\n",
       "      <td>COMMUNICATION</td>\n",
       "      <td>4.0</td>\n",
       "      <td>18247</td>\n",
       "      <td>Varies with device</td>\n",
       "      <td>100,000+</td>\n",
       "      <td>Paid</td>\n",
       "      <td>$3.99</td>\n",
       "      <td>Everyone</td>\n",
       "      <td>Communication</td>\n",
       "      <td>July 5, 2018</td>\n",
       "      <td>7.5.3.20547</td>\n",
       "      <td>4.1 and up</td>\n",
       "    </tr>\n",
       "    <tr>\n",
       "      <th>476</th>\n",
       "      <td>Moco+ - Chat, Meet People</td>\n",
       "      <td>DATING</td>\n",
       "      <td>4.2</td>\n",
       "      <td>1545</td>\n",
       "      <td>Varies with device</td>\n",
       "      <td>10,000+</td>\n",
       "      <td>Paid</td>\n",
       "      <td>$3.99</td>\n",
       "      <td>Mature 17+</td>\n",
       "      <td>Dating</td>\n",
       "      <td>June 19, 2018</td>\n",
       "      <td>2.6.139</td>\n",
       "      <td>4.1 and up</td>\n",
       "    </tr>\n",
       "    <tr>\n",
       "      <th>477</th>\n",
       "      <td>Calculator</td>\n",
       "      <td>DATING</td>\n",
       "      <td>2.6</td>\n",
       "      <td>57</td>\n",
       "      <td>6.2M</td>\n",
       "      <td>1,000+</td>\n",
       "      <td>Paid</td>\n",
       "      <td>$6.99</td>\n",
       "      <td>Everyone</td>\n",
       "      <td>Dating</td>\n",
       "      <td>October 25, 2017</td>\n",
       "      <td>1.1.6</td>\n",
       "      <td>4.0 and up</td>\n",
       "    </tr>\n",
       "  </tbody>\n",
       "</table>\n",
       "</div>"
      ],
      "text/plain": [
       "                                               App       Category  Rating  \\\n",
       "234  TurboScan: scan documents and receipts in PDF       BUSINESS     4.7   \n",
       "235                 Tiny Scanner Pro: PDF Doc Scan       BUSINESS     4.8   \n",
       "427                             Puffin Browser Pro  COMMUNICATION     4.0   \n",
       "476                      Moco+ - Chat, Meet People         DATING     4.2   \n",
       "477                                     Calculator         DATING     2.6   \n",
       "\n",
       "    Reviews                Size  Installs  Type  Price Content Rating  \\\n",
       "234   11442                6.8M  100,000+  Paid  $4.99       Everyone   \n",
       "235   10295                 39M  100,000+  Paid  $4.99       Everyone   \n",
       "427   18247  Varies with device  100,000+  Paid  $3.99       Everyone   \n",
       "476    1545  Varies with device   10,000+  Paid  $3.99     Mature 17+   \n",
       "477      57                6.2M    1,000+  Paid  $6.99       Everyone   \n",
       "\n",
       "            Genres      Last Updated  Current Ver Android Ver  \n",
       "234       Business    March 25, 2018        1.5.2  4.0 and up  \n",
       "235       Business    April 11, 2017        3.4.6  3.0 and up  \n",
       "427  Communication      July 5, 2018  7.5.3.20547  4.1 and up  \n",
       "476         Dating     June 19, 2018      2.6.139  4.1 and up  \n",
       "477         Dating  October 25, 2017        1.1.6  4.0 and up  "
      ]
     },
     "execution_count": 43,
     "metadata": {},
     "output_type": "execute_result"
    }
   ],
   "source": [
    "non_num_price =gps_new[pd.to_numeric(gps_new['Price'], errors='coerce').isnull()]\n",
    "non_num_price.head()\n",
    "#non_num_price['Price'] =non_num_price['Price'].str.replace('[^0-9]+', '')\n"
   ]
  },
  {
   "cell_type": "code",
   "execution_count": 44,
   "id": "e088b7f9-bfb8-4216-9355-df0728534332",
   "metadata": {},
   "outputs": [
    {
     "name": "stderr",
     "output_type": "stream",
     "text": [
      "/var/folders/l2/0xh36csd0pd8m1cg3531p7_w0000gn/T/ipykernel_61826/3891934586.py:2: FutureWarning: The default value of regex will change from True to False in a future version.\n",
      "  gps_new['Price'] =gps_new['Price'].str.replace('[^0-9]+', '')\n"
     ]
    }
   ],
   "source": [
    "#Handling the non numeric price values\n",
    "gps_new['Price'] =gps_new['Price'].str.replace('[^0-9]+', '')\n"
   ]
  },
  {
   "cell_type": "code",
   "execution_count": 45,
   "id": "d2e1cbef-5b4d-4bb3-b0b6-04ad0c74eeea",
   "metadata": {},
   "outputs": [
    {
     "name": "stdout",
     "output_type": "stream",
     "text": [
      "App                object\n",
      "Category           object\n",
      "Rating            float64\n",
      "Reviews            object\n",
      "Size               object\n",
      "Installs           object\n",
      "Type               object\n",
      "Price             float64\n",
      "Content Rating     object\n",
      "Genres             object\n",
      "Last Updated       object\n",
      "Current Ver        object\n",
      "Android Ver        object\n",
      "dtype: object\n"
     ]
    }
   ],
   "source": [
    "gps_new = gps_new.astype({'Price':'float'})\n",
    "print(gps_new.dtypes)"
   ]
  },
  {
   "cell_type": "markdown",
   "id": "6657e317-8ea1-4aee-8f1d-5bc2e7046cf4",
   "metadata": {},
   "source": [
    "Now that we converted the non numeric values to numeric values (by removing $ signe) and after converting the Price column from object to float we can apply the groupby methode      "
   ]
  },
  {
   "cell_type": "code",
   "execution_count": 46,
   "id": "df715828-84ca-4564-86bf-ff85a262226b",
   "metadata": {},
   "outputs": [
    {
     "data": {
      "text/html": [
       "<div>\n",
       "<style scoped>\n",
       "    .dataframe tbody tr th:only-of-type {\n",
       "        vertical-align: middle;\n",
       "    }\n",
       "\n",
       "    .dataframe tbody tr th {\n",
       "        vertical-align: top;\n",
       "    }\n",
       "\n",
       "    .dataframe thead tr th {\n",
       "        text-align: left;\n",
       "    }\n",
       "\n",
       "    .dataframe thead tr:last-of-type th {\n",
       "        text-align: right;\n",
       "    }\n",
       "</style>\n",
       "<table border=\"1\" class=\"dataframe\">\n",
       "  <thead>\n",
       "    <tr>\n",
       "      <th></th>\n",
       "      <th colspan=\"3\" halign=\"left\">Price</th>\n",
       "    </tr>\n",
       "    <tr>\n",
       "      <th></th>\n",
       "      <th>mean</th>\n",
       "      <th>min</th>\n",
       "      <th>max</th>\n",
       "    </tr>\n",
       "    <tr>\n",
       "      <th>Category</th>\n",
       "      <th></th>\n",
       "      <th></th>\n",
       "      <th></th>\n",
       "    </tr>\n",
       "  </thead>\n",
       "  <tbody>\n",
       "    <tr>\n",
       "      <th>ART_AND_DESIGN</th>\n",
       "      <td>9.184615</td>\n",
       "      <td>0.0</td>\n",
       "      <td>199.0</td>\n",
       "    </tr>\n",
       "    <tr>\n",
       "      <th>AUTO_AND_VEHICLES</th>\n",
       "      <td>15.847059</td>\n",
       "      <td>0.0</td>\n",
       "      <td>999.0</td>\n",
       "    </tr>\n",
       "    <tr>\n",
       "      <th>BEAUTY</th>\n",
       "      <td>0.000000</td>\n",
       "      <td>0.0</td>\n",
       "      <td>0.0</td>\n",
       "    </tr>\n",
       "    <tr>\n",
       "      <th>BOOKS_AND_REFERENCE</th>\n",
       "      <td>52.073913</td>\n",
       "      <td>0.0</td>\n",
       "      <td>649.0</td>\n",
       "    </tr>\n",
       "    <tr>\n",
       "      <th>BUSINESS</th>\n",
       "      <td>41.051522</td>\n",
       "      <td>0.0</td>\n",
       "      <td>8999.0</td>\n",
       "    </tr>\n",
       "    <tr>\n",
       "      <th>COMICS</th>\n",
       "      <td>0.000000</td>\n",
       "      <td>0.0</td>\n",
       "      <td>0.0</td>\n",
       "    </tr>\n",
       "    <tr>\n",
       "      <th>COMMUNICATION</th>\n",
       "      <td>22.715847</td>\n",
       "      <td>0.0</td>\n",
       "      <td>1999.0</td>\n",
       "    </tr>\n",
       "    <tr>\n",
       "      <th>DATING</th>\n",
       "      <td>15.873737</td>\n",
       "      <td>0.0</td>\n",
       "      <td>799.0</td>\n",
       "    </tr>\n",
       "    <tr>\n",
       "      <th>EDUCATION</th>\n",
       "      <td>13.815385</td>\n",
       "      <td>0.0</td>\n",
       "      <td>599.0</td>\n",
       "    </tr>\n",
       "    <tr>\n",
       "      <th>ENTERTAINMENT</th>\n",
       "      <td>7.189189</td>\n",
       "      <td>0.0</td>\n",
       "      <td>499.0</td>\n",
       "    </tr>\n",
       "    <tr>\n",
       "      <th>EVENTS</th>\n",
       "      <td>171.859375</td>\n",
       "      <td>0.0</td>\n",
       "      <td>10999.0</td>\n",
       "    </tr>\n",
       "    <tr>\n",
       "      <th>FAMILY</th>\n",
       "      <td>124.591868</td>\n",
       "      <td>0.0</td>\n",
       "      <td>39999.0</td>\n",
       "    </tr>\n",
       "    <tr>\n",
       "      <th>FINANCE</th>\n",
       "      <td>805.786111</td>\n",
       "      <td>0.0</td>\n",
       "      <td>39999.0</td>\n",
       "    </tr>\n",
       "    <tr>\n",
       "      <th>FOOD_AND_DRINK</th>\n",
       "      <td>6.838710</td>\n",
       "      <td>0.0</td>\n",
       "      <td>499.0</td>\n",
       "    </tr>\n",
       "    <tr>\n",
       "      <th>GAME</th>\n",
       "      <td>25.628903</td>\n",
       "      <td>0.0</td>\n",
       "      <td>1799.0</td>\n",
       "    </tr>\n",
       "    <tr>\n",
       "      <th>HEALTH_AND_FITNESS</th>\n",
       "      <td>21.029412</td>\n",
       "      <td>0.0</td>\n",
       "      <td>999.0</td>\n",
       "    </tr>\n",
       "    <tr>\n",
       "      <th>HOUSE_AND_HOME</th>\n",
       "      <td>0.000000</td>\n",
       "      <td>0.0</td>\n",
       "      <td>0.0</td>\n",
       "    </tr>\n",
       "    <tr>\n",
       "      <th>LIBRARIES_AND_DEMO</th>\n",
       "      <td>1.164706</td>\n",
       "      <td>0.0</td>\n",
       "      <td>99.0</td>\n",
       "    </tr>\n",
       "    <tr>\n",
       "      <th>LIFESTYLE</th>\n",
       "      <td>632.941019</td>\n",
       "      <td>0.0</td>\n",
       "      <td>40000.0</td>\n",
       "    </tr>\n",
       "    <tr>\n",
       "      <th>MAPS_AND_NAVIGATION</th>\n",
       "      <td>19.671533</td>\n",
       "      <td>0.0</td>\n",
       "      <td>1199.0</td>\n",
       "    </tr>\n",
       "    <tr>\n",
       "      <th>MEDICAL</th>\n",
       "      <td>251.971084</td>\n",
       "      <td>0.0</td>\n",
       "      <td>20000.0</td>\n",
       "    </tr>\n",
       "    <tr>\n",
       "      <th>NEWS_AND_MAGAZINES</th>\n",
       "      <td>1.507576</td>\n",
       "      <td>0.0</td>\n",
       "      <td>299.0</td>\n",
       "    </tr>\n",
       "    <tr>\n",
       "      <th>PARENTING</th>\n",
       "      <td>15.966667</td>\n",
       "      <td>0.0</td>\n",
       "      <td>499.0</td>\n",
       "    </tr>\n",
       "    <tr>\n",
       "      <th>PERSONALIZATION</th>\n",
       "      <td>39.038660</td>\n",
       "      <td>0.0</td>\n",
       "      <td>999.0</td>\n",
       "    </tr>\n",
       "    <tr>\n",
       "      <th>PHOTOGRAPHY</th>\n",
       "      <td>37.959627</td>\n",
       "      <td>0.0</td>\n",
       "      <td>2999.0</td>\n",
       "    </tr>\n",
       "    <tr>\n",
       "      <th>PRODUCTIVITY</th>\n",
       "      <td>61.653563</td>\n",
       "      <td>0.0</td>\n",
       "      <td>15499.0</td>\n",
       "    </tr>\n",
       "    <tr>\n",
       "      <th>SHOPPING</th>\n",
       "      <td>2.446429</td>\n",
       "      <td>0.0</td>\n",
       "      <td>299.0</td>\n",
       "    </tr>\n",
       "    <tr>\n",
       "      <th>SOCIAL</th>\n",
       "      <td>5.703571</td>\n",
       "      <td>0.0</td>\n",
       "      <td>1399.0</td>\n",
       "    </tr>\n",
       "    <tr>\n",
       "      <th>SPORTS</th>\n",
       "      <td>28.490028</td>\n",
       "      <td>0.0</td>\n",
       "      <td>2999.0</td>\n",
       "    </tr>\n",
       "    <tr>\n",
       "      <th>TOOLS</th>\n",
       "      <td>31.702254</td>\n",
       "      <td>0.0</td>\n",
       "      <td>2599.0</td>\n",
       "    </tr>\n",
       "    <tr>\n",
       "      <th>TRAVEL_AND_LOCAL</th>\n",
       "      <td>21.075949</td>\n",
       "      <td>0.0</td>\n",
       "      <td>899.0</td>\n",
       "    </tr>\n",
       "    <tr>\n",
       "      <th>VIDEO_PLAYERS</th>\n",
       "      <td>5.977143</td>\n",
       "      <td>0.0</td>\n",
       "      <td>599.0</td>\n",
       "    </tr>\n",
       "    <tr>\n",
       "      <th>WEATHER</th>\n",
       "      <td>39.536585</td>\n",
       "      <td>0.0</td>\n",
       "      <td>699.0</td>\n",
       "    </tr>\n",
       "  </tbody>\n",
       "</table>\n",
       "</div>"
      ],
      "text/plain": [
       "                          Price              \n",
       "                           mean  min      max\n",
       "Category                                     \n",
       "ART_AND_DESIGN         9.184615  0.0    199.0\n",
       "AUTO_AND_VEHICLES     15.847059  0.0    999.0\n",
       "BEAUTY                 0.000000  0.0      0.0\n",
       "BOOKS_AND_REFERENCE   52.073913  0.0    649.0\n",
       "BUSINESS              41.051522  0.0   8999.0\n",
       "COMICS                 0.000000  0.0      0.0\n",
       "COMMUNICATION         22.715847  0.0   1999.0\n",
       "DATING                15.873737  0.0    799.0\n",
       "EDUCATION             13.815385  0.0    599.0\n",
       "ENTERTAINMENT          7.189189  0.0    499.0\n",
       "EVENTS               171.859375  0.0  10999.0\n",
       "FAMILY               124.591868  0.0  39999.0\n",
       "FINANCE              805.786111  0.0  39999.0\n",
       "FOOD_AND_DRINK         6.838710  0.0    499.0\n",
       "GAME                  25.628903  0.0   1799.0\n",
       "HEALTH_AND_FITNESS    21.029412  0.0    999.0\n",
       "HOUSE_AND_HOME         0.000000  0.0      0.0\n",
       "LIBRARIES_AND_DEMO     1.164706  0.0     99.0\n",
       "LIFESTYLE            632.941019  0.0  40000.0\n",
       "MAPS_AND_NAVIGATION   19.671533  0.0   1199.0\n",
       "MEDICAL              251.971084  0.0  20000.0\n",
       "NEWS_AND_MAGAZINES     1.507576  0.0    299.0\n",
       "PARENTING             15.966667  0.0    499.0\n",
       "PERSONALIZATION       39.038660  0.0    999.0\n",
       "PHOTOGRAPHY           37.959627  0.0   2999.0\n",
       "PRODUCTIVITY          61.653563  0.0  15499.0\n",
       "SHOPPING               2.446429  0.0    299.0\n",
       "SOCIAL                 5.703571  0.0   1399.0\n",
       "SPORTS                28.490028  0.0   2999.0\n",
       "TOOLS                 31.702254  0.0   2599.0\n",
       "TRAVEL_AND_LOCAL      21.075949  0.0    899.0\n",
       "VIDEO_PLAYERS          5.977143  0.0    599.0\n",
       "WEATHER               39.536585  0.0    699.0"
      ]
     },
     "execution_count": 46,
     "metadata": {},
     "output_type": "execute_result"
    }
   ],
   "source": [
    "grouped_price = gps_new.groupby('Category').agg({'Price': ['mean', 'min', 'max']})\n",
    "grouped_price"
   ]
  },
  {
   "cell_type": "code",
   "execution_count": 47,
   "id": "e77e3db7-d0f0-4616-866e-8c17e86dbde3",
   "metadata": {},
   "outputs": [],
   "source": [
    "#Size col"
   ]
  },
  {
   "cell_type": "code",
   "execution_count": 48,
   "id": "b4588a11-f4d1-4a45-9657-a4081b88af70",
   "metadata": {},
   "outputs": [
    {
     "name": "stderr",
     "output_type": "stream",
     "text": [
      "/var/folders/l2/0xh36csd0pd8m1cg3531p7_w0000gn/T/ipykernel_61826/475015161.py:1: FutureWarning: The default value of regex will change from True to False in a future version.\n",
      "  gps_new['Size'] = gps_new['Size'].str.replace('[^0-9]+', '')\n"
     ]
    }
   ],
   "source": [
    "gps_new['Size'] = gps_new['Size'].str.replace('[^0-9]+', '')"
   ]
  },
  {
   "cell_type": "code",
   "execution_count": 49,
   "id": "60293dd3-6260-47f8-b477-09c9a13f2440",
   "metadata": {},
   "outputs": [
    {
     "data": {
      "text/html": [
       "<div>\n",
       "<style scoped>\n",
       "    .dataframe tbody tr th:only-of-type {\n",
       "        vertical-align: middle;\n",
       "    }\n",
       "\n",
       "    .dataframe tbody tr th {\n",
       "        vertical-align: top;\n",
       "    }\n",
       "\n",
       "    .dataframe thead th {\n",
       "        text-align: right;\n",
       "    }\n",
       "</style>\n",
       "<table border=\"1\" class=\"dataframe\">\n",
       "  <thead>\n",
       "    <tr style=\"text-align: right;\">\n",
       "      <th></th>\n",
       "      <th>App</th>\n",
       "      <th>Category</th>\n",
       "      <th>Rating</th>\n",
       "      <th>Reviews</th>\n",
       "      <th>Size</th>\n",
       "      <th>Installs</th>\n",
       "      <th>Type</th>\n",
       "      <th>Price</th>\n",
       "      <th>Content Rating</th>\n",
       "      <th>Genres</th>\n",
       "      <th>Last Updated</th>\n",
       "      <th>Current Ver</th>\n",
       "      <th>Android Ver</th>\n",
       "    </tr>\n",
       "  </thead>\n",
       "  <tbody>\n",
       "    <tr>\n",
       "      <th>0</th>\n",
       "      <td>Photo Editor &amp; Candy Camera &amp; Grid &amp; ScrapBook</td>\n",
       "      <td>ART_AND_DESIGN</td>\n",
       "      <td>4.1</td>\n",
       "      <td>159</td>\n",
       "      <td>19</td>\n",
       "      <td>10,000+</td>\n",
       "      <td>Free</td>\n",
       "      <td>0.0</td>\n",
       "      <td>Everyone</td>\n",
       "      <td>Art &amp; Design</td>\n",
       "      <td>January 7, 2018</td>\n",
       "      <td>1.0.0</td>\n",
       "      <td>4.0.3 and up</td>\n",
       "    </tr>\n",
       "    <tr>\n",
       "      <th>1</th>\n",
       "      <td>Coloring book moana</td>\n",
       "      <td>ART_AND_DESIGN</td>\n",
       "      <td>3.9</td>\n",
       "      <td>967</td>\n",
       "      <td>14</td>\n",
       "      <td>500,000+</td>\n",
       "      <td>Free</td>\n",
       "      <td>0.0</td>\n",
       "      <td>Everyone</td>\n",
       "      <td>Art &amp; Design;Pretend Play</td>\n",
       "      <td>January 15, 2018</td>\n",
       "      <td>2.0.0</td>\n",
       "      <td>4.0.3 and up</td>\n",
       "    </tr>\n",
       "    <tr>\n",
       "      <th>2</th>\n",
       "      <td>U Launcher Lite – FREE Live Cool Themes, Hide ...</td>\n",
       "      <td>ART_AND_DESIGN</td>\n",
       "      <td>4.7</td>\n",
       "      <td>87510</td>\n",
       "      <td>87</td>\n",
       "      <td>5,000,000+</td>\n",
       "      <td>Free</td>\n",
       "      <td>0.0</td>\n",
       "      <td>Everyone</td>\n",
       "      <td>Art &amp; Design</td>\n",
       "      <td>August 1, 2018</td>\n",
       "      <td>1.2.4</td>\n",
       "      <td>4.0.3 and up</td>\n",
       "    </tr>\n",
       "    <tr>\n",
       "      <th>3</th>\n",
       "      <td>Sketch - Draw &amp; Paint</td>\n",
       "      <td>ART_AND_DESIGN</td>\n",
       "      <td>4.5</td>\n",
       "      <td>215644</td>\n",
       "      <td>25</td>\n",
       "      <td>50,000,000+</td>\n",
       "      <td>Free</td>\n",
       "      <td>0.0</td>\n",
       "      <td>Teen</td>\n",
       "      <td>Art &amp; Design</td>\n",
       "      <td>June 8, 2018</td>\n",
       "      <td>Varies with device</td>\n",
       "      <td>4.2 and up</td>\n",
       "    </tr>\n",
       "    <tr>\n",
       "      <th>4</th>\n",
       "      <td>Pixel Draw - Number Art Coloring Book</td>\n",
       "      <td>ART_AND_DESIGN</td>\n",
       "      <td>4.3</td>\n",
       "      <td>967</td>\n",
       "      <td>28</td>\n",
       "      <td>100,000+</td>\n",
       "      <td>Free</td>\n",
       "      <td>0.0</td>\n",
       "      <td>Everyone</td>\n",
       "      <td>Art &amp; Design;Creativity</td>\n",
       "      <td>June 20, 2018</td>\n",
       "      <td>1.1</td>\n",
       "      <td>4.4 and up</td>\n",
       "    </tr>\n",
       "  </tbody>\n",
       "</table>\n",
       "</div>"
      ],
      "text/plain": [
       "                                                 App        Category  Rating  \\\n",
       "0     Photo Editor & Candy Camera & Grid & ScrapBook  ART_AND_DESIGN     4.1   \n",
       "1                                Coloring book moana  ART_AND_DESIGN     3.9   \n",
       "2  U Launcher Lite – FREE Live Cool Themes, Hide ...  ART_AND_DESIGN     4.7   \n",
       "3                              Sketch - Draw & Paint  ART_AND_DESIGN     4.5   \n",
       "4              Pixel Draw - Number Art Coloring Book  ART_AND_DESIGN     4.3   \n",
       "\n",
       "  Reviews Size     Installs  Type  Price Content Rating  \\\n",
       "0     159   19      10,000+  Free    0.0       Everyone   \n",
       "1     967   14     500,000+  Free    0.0       Everyone   \n",
       "2   87510   87   5,000,000+  Free    0.0       Everyone   \n",
       "3  215644   25  50,000,000+  Free    0.0           Teen   \n",
       "4     967   28     100,000+  Free    0.0       Everyone   \n",
       "\n",
       "                      Genres      Last Updated         Current Ver  \\\n",
       "0               Art & Design   January 7, 2018               1.0.0   \n",
       "1  Art & Design;Pretend Play  January 15, 2018               2.0.0   \n",
       "2               Art & Design    August 1, 2018               1.2.4   \n",
       "3               Art & Design      June 8, 2018  Varies with device   \n",
       "4    Art & Design;Creativity     June 20, 2018                 1.1   \n",
       "\n",
       "    Android Ver  \n",
       "0  4.0.3 and up  \n",
       "1  4.0.3 and up  \n",
       "2  4.0.3 and up  \n",
       "3    4.2 and up  \n",
       "4    4.4 and up  "
      ]
     },
     "execution_count": 49,
     "metadata": {},
     "output_type": "execute_result"
    }
   ],
   "source": [
    "gps_new.head()"
   ]
  },
  {
   "cell_type": "code",
   "execution_count": 50,
   "id": "e03ddfc9-25b9-4228-9add-5930f37a23b5",
   "metadata": {},
   "outputs": [],
   "source": [
    "#Install column"
   ]
  },
  {
   "cell_type": "code",
   "execution_count": 51,
   "id": "b7f92488-4c80-4d4b-92c4-ba8cfae0d71a",
   "metadata": {},
   "outputs": [
    {
     "data": {
      "text/plain": [
       "1,000,000+        1488\n",
       "10,000,000+       1132\n",
       "100,000+          1129\n",
       "10,000+           1033\n",
       "1,000+             892\n",
       "100+               713\n",
       "5,000,000+         683\n",
       "500,000+           517\n",
       "50,000+            474\n",
       "5,000+             471\n",
       "10+                386\n",
       "100,000,000+       369\n",
       "500+               328\n",
       "50,000,000+        272\n",
       "50+                205\n",
       "5+                  82\n",
       "1+                  67\n",
       "500,000,000+        61\n",
       "1,000,000,000+      49\n",
       "0+                  14\n",
       "0                    1\n",
       "Name: Installs, dtype: int64"
      ]
     },
     "execution_count": 51,
     "metadata": {},
     "output_type": "execute_result"
    }
   ],
   "source": [
    "gps_new.Installs.value_counts()"
   ]
  },
  {
   "cell_type": "code",
   "execution_count": 52,
   "id": "9e8fbb36-0ada-4d14-b88b-a9e3a4e39cd3",
   "metadata": {},
   "outputs": [
    {
     "data": {
      "text/plain": [
       "<AxesSubplot:>"
      ]
     },
     "execution_count": 52,
     "metadata": {},
     "output_type": "execute_result"
    },
    {
     "data": {
      "image/png": "[encoded data removed]",
      "text/plain": [
       "<Figure size 432x288 with 1 Axes>"
      ]
     },
     "metadata": {
      "needs_background": "light"
     },
     "output_type": "display_data"
    }
   ],
   "source": [
    "gps_new['Installs'].value_counts().plot(kind='bar')\n"
   ]
  },
  {
   "cell_type": "code",
   "execution_count": 53,
   "id": "0505aea6-eee6-4b84-8f21-b634c1c2108c",
   "metadata": {},
   "outputs": [
    {
     "name": "stderr",
     "output_type": "stream",
     "text": [
      "/var/folders/l2/0xh36csd0pd8m1cg3531p7_w0000gn/T/ipykernel_61826/3835205951.py:2: FutureWarning: The default value of regex will change from True to False in a future version.\n",
      "  gps_new['Installs'] = gps_new['Installs'].str.replace('[^0-9]+', '')\n"
     ]
    }
   ],
   "source": [
    "#Remove + signe\n",
    "gps_new['Installs'] = gps_new['Installs'].str.replace('[^0-9]+', '')\n",
    "#Transform the column to numeric \n",
    "gps_new = gps_new.astype({'Installs':'float'})\n"
   ]
  },
  {
   "cell_type": "code",
   "execution_count": 54,
   "id": "3f255aca-d31b-43fe-bd96-e798bef45978",
   "metadata": {},
   "outputs": [
    {
     "data": {
      "text/plain": [
       "1.000000e+06    1488\n",
       "1.000000e+07    1132\n",
       "1.000000e+05    1129\n",
       "1.000000e+04    1033\n",
       "1.000000e+03     892\n",
       "1.000000e+02     713\n",
       "5.000000e+06     683\n",
       "5.000000e+05     517\n",
       "5.000000e+04     474\n",
       "5.000000e+03     471\n",
       "1.000000e+01     386\n",
       "1.000000e+08     369\n",
       "5.000000e+02     328\n",
       "5.000000e+07     272\n",
       "5.000000e+01     205\n",
       "5.000000e+00      82\n",
       "1.000000e+00      67\n",
       "5.000000e+08      61\n",
       "1.000000e+09      49\n",
       "0.000000e+00      15\n",
       "Name: Installs, dtype: int64"
      ]
     },
     "execution_count": 54,
     "metadata": {},
     "output_type": "execute_result"
    }
   ],
   "source": [
    "gps_new.Installs.value_counts()"
   ]
  },
  {
   "cell_type": "code",
   "execution_count": 55,
   "id": "1f43fd17-187d-400b-9869-c14d9343acb6",
   "metadata": {},
   "outputs": [
    {
     "data": {
      "text/plain": [
       "array([[1.        , 0.04711254],\n",
       "       [0.04711254, 1.        ]])"
      ]
     },
     "execution_count": 55,
     "metadata": {},
     "output_type": "execute_result"
    }
   ],
   "source": [
    "np.corrcoef(gps_new['Installs'],gps_new['Rating'])"
   ]
  },
  {
   "cell_type": "markdown",
   "id": "c012be37-09df-4a4d-8434-a50a10d0de9f",
   "metadata": {},
   "source": [
    "## Visualization of Installs values"
   ]
  },
  {
   "cell_type": "code",
   "execution_count": 56,
   "id": "4876087c-2909-47be-8fbd-deb9f9ec9d02",
   "metadata": {},
   "outputs": [],
   "source": [
    "def visualize_deciles(df,col_name,quartiles):\n",
    "    sns.set_style('whitegrid')\n",
    "    fig, ax = plt.subplots()\n",
    "    df[col_name].hist(ax=ax, bins=20)\n",
    "    for pos in quartiles:\n",
    "        print(pos)\n",
    "        handle = plt.axvline(pos, color='r')\n",
    "    ax.legend([handle], ['quartiles'], fontsize=16)\n",
    "    fig.set_size_inches(18.5, 10.5)\n",
    "    ax.tick_params(labelsize=14)\n",
    "    ax.set_xlabel('col_name', fontsize=14)\n",
    "    ax.set_ylabel('Occurrence', fontsize=14)"
   ]
  },
  {
   "cell_type": "code",
   "execution_count": 57,
   "id": "45b691e8-160c-4ec0-8804-b88e3ed37e7d",
   "metadata": {},
   "outputs": [
    {
     "data": {
      "text/plain": [
       "0.10        100.0\n",
       "0.25       1000.0\n",
       "0.50     100000.0\n",
       "0.75    1000000.0\n",
       "Name: Installs, dtype: float64"
      ]
     },
     "execution_count": 57,
     "metadata": {},
     "output_type": "execute_result"
    }
   ],
   "source": [
    "quartiles = gps_new.Installs.quantile([ 0.1, 0.25, 0.5, 0.75])\n",
    "quartiles\n"
   ]
  },
  {
   "cell_type": "code",
   "execution_count": 58,
   "id": "d798b284-f2d8-4947-8ec0-788b0bc08ff0",
   "metadata": {},
   "outputs": [
    {
     "name": "stdout",
     "output_type": "stream",
     "text": [
      "100.0\n",
      "1000.0\n",
      "100000.0\n",
      "1000000.0\n"
     ]
    },
    {
     "data": {
      "image/png": "[encoded data removed]",
      "text/plain": [
       "<Figure size 1332x756 with 1 Axes>"
      ]
     },
     "metadata": {},
     "output_type": "display_data"
    }
   ],
   "source": [
    "visualize_deciles(gps_new,'Installs',quartiles)"
   ]
  },
  {
   "cell_type": "code",
   "execution_count": null,
   "id": "044a695d-aaa3-484a-88ec-0031c5b063c0",
   "metadata": {},
   "outputs": [],
   "source": [
    "#Log Installs"
   ]
  },
  {
   "cell_type": "code",
   "execution_count": 59,
   "id": "5aad0379-0a16-4719-83d6-7e331e3f2a1c",
   "metadata": {},
   "outputs": [],
   "source": [
    "gps_new['log_Installs'] = np.log10(gps_new['Installs'] + 1)\n",
    "\n",
    "quartiles = gps_new.log_Installs.quantile([ 0.1, 0.25, 0.5, 0.75])\n",
    "# Visualize the deciles on the histogram\n"
   ]
  },
  {
   "cell_type": "code",
   "execution_count": 60,
   "id": "3880a284-49cc-4492-a42e-f3931155d698",
   "metadata": {},
   "outputs": [
    {
     "name": "stdout",
     "output_type": "stream",
     "text": [
      "2.0043213737826426\n",
      "3.000434077479319\n",
      "5.000004342923105\n",
      "6.0000004342942646\n"
     ]
    },
    {
     "data": {
      "image/png": "[encoded data removed]",
      "text/plain": [
       "<Figure size 1332x756 with 1 Axes>"
      ]
     },
     "metadata": {},
     "output_type": "display_data"
    }
   ],
   "source": [
    "visualize_deciles(gps_new,'log_Installs',quartiles)"
   ]
  },
  {
   "cell_type": "code",
   "execution_count": 61,
   "id": "10b824d4-a350-49cd-aa7f-30849a1c946e",
   "metadata": {},
   "outputs": [
    {
     "data": {
      "text/plain": [
       "<AxesSubplot:>"
      ]
     },
     "execution_count": 61,
     "metadata": {},
     "output_type": "execute_result"
    },
    {
     "data": {
      "image/png": "[encoded data removed]",
      "text/plain": [
       "<Figure size 432x288 with 1 Axes>"
      ]
     },
     "metadata": {},
     "output_type": "display_data"
    }
   ],
   "source": [
    "gps_new['log_Installs'].plot.box()"
   ]
  },
  {
   "cell_type": "code",
   "execution_count": null,
   "id": "9686f6a3-7aa5-480a-943a-c411635fb839",
   "metadata": {},
   "outputs": [],
   "source": [
    "'''\n",
    "Quartiles values in **log_Installs column**\n",
    "0.10    2.004321\n",
    "0.25    3.000434\n",
    "0.50    5.000004\n",
    "0.75    6.000000\n",
    "\n",
    "\n",
    "Quartiles values in **Installs column**\n",
    "0.10        100.0\n",
    "0.25       1000.0\n",
    "0.50     100000.0\n",
    "0.75    1000000.0\n",
    "\n",
    "'''"
   ]
  },
  {
   "cell_type": "markdown",
   "id": "faac4d89-c83d-4f48-8f25-f8bf58ea2fd7",
   "metadata": {},
   "source": [
    "Creating new classes for Intalls values:"
   ]
  },
  {
   "cell_type": "code",
   "execution_count": 62,
   "id": "ab706e60-4791-4d16-81ad-767028e5d329",
   "metadata": {},
   "outputs": [
    {
     "data": {
      "text/plain": [
       "'\\nNeg = Apps with negligible number of instalations from 0 to 1000 installation\\nMorThous = Apps with more than 1000 installation number\\nBTW^3-5 = Apps that have a nbr of installation between 10^3 and 10^5&more\\nBTW^5-6 = Apps that have a nbr of installation between 10^5-10^6&more\\nMore^7 = Apps that have a nbr of installation more_than_10^7\\n'"
      ]
     },
     "execution_count": 62,
     "metadata": {},
     "output_type": "execute_result"
    }
   ],
   "source": [
    "gps_new['Installs_new_val'] = pd.cut(gps_new.Installs , \n",
    "                                     bins=[0.0, 1000.0, 100000.0, 1000000.0,10000000.0, 50000000000.0],\n",
    "                                     labels=[\"Neg\",\"MorThous\",\"BTW^3-5\", \"BTW^5-6\",\"More^7\"],\n",
    "                                     include_lowest=True)\n",
    "gps_new.head() \n",
    "\n",
    "'''\n",
    "Neg = Apps with negligible number of instalations from 0 to 1000 installation\n",
    "MorThous = Apps with more than 1000 installation number\n",
    "BTW^3-5 = Apps that have a nbr of installation between 10^3 and 10^5&more\n",
    "BTW^5-6 = Apps that have a nbr of installation between 10^5-10^6&more\n",
    "More^7 = Apps that have a nbr of installation more_than_10^7\n",
    "'''\n"
   ]
  },
  {
   "cell_type": "code",
   "execution_count": 63,
   "id": "c1f83979-c191-4a1b-9a33-ef42c5484814",
   "metadata": {},
   "outputs": [
    {
     "data": {
      "text/plain": [
       "App                 0\n",
       "Category            0\n",
       "Rating              0\n",
       "Reviews             0\n",
       "Size                0\n",
       "Installs            0\n",
       "Type                1\n",
       "Price               0\n",
       "Content Rating      0\n",
       "Genres              0\n",
       "Last Updated        0\n",
       "Current Ver         8\n",
       "Android Ver         2\n",
       "log_Installs        0\n",
       "Installs_new_val    0\n",
       "dtype: int64"
      ]
     },
     "execution_count": 63,
     "metadata": {},
     "output_type": "execute_result"
    }
   ],
   "source": [
    "gps_new.isnull().sum()\n"
   ]
  },
  {
   "cell_type": "code",
   "execution_count": 64,
   "id": "d68fa7cc-3029-4954-992e-03c553df4eaa",
   "metadata": {},
   "outputs": [],
   "source": [
    "#To get the index of NaN values\n",
    "#gps_new[gps_new['Installs_new_val'].isnull()].index.tolist()\n"
   ]
  },
  {
   "cell_type": "code",
   "execution_count": 65,
   "id": "95c2aafa-ff58-4357-9a4b-477c3a1b8fc0",
   "metadata": {},
   "outputs": [
    {
     "data": {
      "text/plain": [
       "<AxesSubplot:>"
      ]
     },
     "execution_count": 65,
     "metadata": {},
     "output_type": "execute_result"
    },
    {
     "data": {
      "image/png": "[encoded data removed]",
      "text/plain": [
       "<Figure size 432x288 with 1 Axes>"
      ]
     },
     "metadata": {},
     "output_type": "display_data"
    }
   ],
   "source": [
    "gps_new['Installs_new_val'].value_counts().plot(kind='bar')\n"
   ]
  },
  {
   "cell_type": "code",
   "execution_count": null,
   "id": "7b33f422-2a2c-4eba-a95a-f6eb2d9b62a7",
   "metadata": {},
   "outputs": [],
   "source": [
    "'''\n",
    "Most of Apps have more than 1000 install, the second position are for Apps with nbr of install between 0 and 1000.\n",
    "\n",
    "\n",
    "Almost same amount of Apps with nbr of install between 10^3-10^6 and more.\n",
    "\n",
    "\n",
    "More than 500 Apps have a huge nbr of installation more than 10^7,\n",
    "\n",
    "# Neg = \"negligible\"\n",
    "# MorThous = 10^3&more\n",
    "# BTW^3-5 = 10^3-10^5&more\n",
    "# BTW^5-6 = 10^5-10^6&more\n",
    "# More^7 =more_than_10^7\n",
    "'''"
   ]
  },
  {
   "cell_type": "code",
   "execution_count": 66,
   "id": "1fd5dda0-4a91-45bb-9a02-05fc14f7c407",
   "metadata": {},
   "outputs": [
    {
     "data": {
      "text/plain": [
       "<seaborn.axisgrid.FacetGrid at 0x7fb33c342d00>"
      ]
     },
     "execution_count": 66,
     "metadata": {},
     "output_type": "execute_result"
    },
    {
     "data": {
      "image/png": "[encoded data removed]",
      "text/plain": [
       "<Figure size 416.5x360 with 1 Axes>"
      ]
     },
     "metadata": {},
     "output_type": "display_data"
    }
   ],
   "source": [
    "#Installation vs Type(Paid or Free)\n",
    "sns.displot(gps_new, x=\"Installs_new_val\", hue= \"Type\")"
   ]
  },
  {
   "cell_type": "markdown",
   "id": "46cc986f-fc5a-42eb-a4df-dd662362c92e",
   "metadata": {},
   "source": [
    "We clearly see that the most popular app (most installed) are free, the big amount of paid App are negligible.\n"
   ]
  },
  {
   "cell_type": "code",
   "execution_count": 67,
   "id": "8b2ec3ab-be8f-405c-a818-1959da226d43",
   "metadata": {},
   "outputs": [
    {
     "data": {
      "text/plain": [
       "<AxesSubplot:xlabel='Rating', ylabel='Installs_new_val'>"
      ]
     },
     "execution_count": 67,
     "metadata": {},
     "output_type": "execute_result"
    },
    {
     "data": {
      "image/png": "[encoded data removed]",
      "text/plain": [
       "<Figure size 432x288 with 1 Axes>"
      ]
     },
     "metadata": {},
     "output_type": "display_data"
    }
   ],
   "source": [
    "sns.boxplot(x='Rating', y= 'Installs_new_val',hue='Type', data=gps_new)\n"
   ]
  },
  {
   "cell_type": "markdown",
   "id": "909d351e-77a4-49e9-84d4-818535e647ad",
   "metadata": {},
   "source": [
    "Most of the important App (with important installation number) have a good rating between 3 to 5, with median around 4.5"
   ]
  },
  {
   "cell_type": "code",
   "execution_count": null,
   "id": "8c038435-63c2-4a58-9927-52a46bdee238",
   "metadata": {},
   "outputs": [],
   "source": [
    "#sns.displot(gps_new, x=\"Rating\", y=\"Reviews\", hue=\"Type\", kind=\"kde\", rug= True)\n"
   ]
  },
  {
   "cell_type": "markdown",
   "id": "0b9b7ead-5aba-47fd-acbd-27247b89ed29",
   "metadata": {},
   "source": [
    "In order to apply some classification algorithmes, let's join (inner join) our 2 tables, gps_new and gps_user_rev, with respect to the column App.\n"
   ]
  },
  {
   "cell_type": "code",
   "execution_count": 68,
   "id": "b9bd973e-c1a3-49e8-be36-75fbcece7bb3",
   "metadata": {},
   "outputs": [
    {
     "data": {
      "text/plain": [
       "ROBLOX                                             9\n",
       "8 Ball Pool                                        7\n",
       "Zombie Catchers                                    6\n",
       "Helix Jump                                         6\n",
       "Bubble Shooter                                     6\n",
       "                                                  ..\n",
       "Pureness Pacify (Android P) - Theme for Xperia™    1\n",
       "Android P 9.0                                      1\n",
       "P Theme for Android™ P 9.0 Style Launcher          1\n",
       "Theme Android P Black for LG G7 & V35              1\n",
       "iHoroscope - 2018 Daily Horoscope & Astrology      1\n",
       "Name: App, Length: 9659, dtype: int64"
      ]
     },
     "execution_count": 68,
     "metadata": {},
     "output_type": "execute_result"
    }
   ],
   "source": [
    "gps_new.App.value_counts()"
   ]
  },
  {
   "cell_type": "code",
   "execution_count": 69,
   "id": "948d57d8-38bb-479b-acff-6dbe3013974c",
   "metadata": {},
   "outputs": [
    {
     "data": {
      "text/plain": [
       "Facebook                                              116\n",
       "Angry Birds Classic                                   107\n",
       "Episode - Choose Your Story                           107\n",
       "Google Photos                                         100\n",
       "ColorNote Notepad Notes                                99\n",
       "                                                     ... \n",
       "Caller ID +                                             1\n",
       "CallApp: Caller ID, Blocker & Phone Call Recorder       1\n",
       "Calendar+ Schedule Planner App                          1\n",
       "Calculator - unit converter                             1\n",
       "Best Ovulation Tracker Fertility Calendar App Glow      1\n",
       "Name: App, Length: 865, dtype: int64"
      ]
     },
     "execution_count": 69,
     "metadata": {},
     "output_type": "execute_result"
    }
   ],
   "source": [
    "gps_user_rev.App.value_counts()"
   ]
  },
  {
   "cell_type": "code",
   "execution_count": 70,
   "id": "ff350f47-b7b6-450e-9572-5cf7fa621c46",
   "metadata": {},
   "outputs": [
    {
     "data": {
      "text/plain": [
       "False"
      ]
     },
     "execution_count": 70,
     "metadata": {},
     "output_type": "execute_result"
    }
   ],
   "source": [
    "#Checking If Two Dataframes have the Exactly Same column App\n",
    "gps_new['App'].equals(gps_user_rev['App'])  "
   ]
  },
  {
   "cell_type": "code",
   "execution_count": 71,
   "id": "74ae66cd-4c20-4501-bf65-7a6f9bebd0d2",
   "metadata": {},
   "outputs": [
    {
     "name": "stdout",
     "output_type": "stream",
     "text": [
      "(10366, 15)\n",
      "(25084, 4)\n"
     ]
    }
   ],
   "source": [
    "print(gps_new.shape)\n",
    "print(gps_user_rev.shape)"
   ]
  },
  {
   "cell_type": "code",
   "execution_count": null,
   "id": "0349afef-5377-4318-a689-cfef996cac98",
   "metadata": {
    "tags": []
   },
   "outputs": [],
   "source": [
    "#Dib Part"
   ]
  },
  {
   "cell_type": "code",
   "execution_count": null,
   "id": "3c4454bf-8572-4936-ab0e-71433f5cd099",
   "metadata": {
    "tags": []
   },
   "outputs": [],
   "source": [
    "#gps_user_rev_dap.groupby(['App','Sentiment']).agg({'Sentiment_Polarity':['mean','min','max']})\n",
    "#df = gps_user_rev_dap.groupby(['App','Sentiment']).agg({'Sentiment_Subjectivity':['mean','std'],\n",
    " #                                                  'Sentiment_Polarity':['mean','min','max']})\n",
    "df = gps_user_rev.groupby(['App','Sentiment']).agg({'Sentiment_Subjectivity':'mean',\n",
    "                                                   'Sentiment_Polarity':'mean'})\n",
    "\n",
    "df"
   ]
  },
  {
   "cell_type": "code",
   "execution_count": null,
   "id": "af4809e3-2180-415b-a133-55a68d0e4bdd",
   "metadata": {
    "tags": []
   },
   "outputs": [],
   "source": [
    "#Check the Indexes\n",
    "#df.index"
   ]
  },
  {
   "cell_type": "code",
   "execution_count": null,
   "id": "4866fdb2-68d5-454f-9eba-784825f98045",
   "metadata": {
    "tags": []
   },
   "outputs": [],
   "source": [
    "#Check the column's name\n",
    "#df.columns"
   ]
  },
  {
   "cell_type": "code",
   "execution_count": null,
   "id": "252297fd-6d94-44cf-a83e-372e2ce72c24",
   "metadata": {
    "tags": []
   },
   "outputs": [],
   "source": [
    "# Droping the unnecessary column\n",
    "df2 = gps_new.drop(['Installs','Price','Genres','Last Updated','Current Ver','Android Ver','log_Installs','Content Rating'], axis=1)\n",
    "df2.head()"
   ]
  },
  {
   "cell_type": "code",
   "execution_count": null,
   "id": "03f36935-ccd2-409f-89b5-4d828c2c2438",
   "metadata": {
    "tags": []
   },
   "outputs": [],
   "source": [
    "#df3 = df2.groupby(['App','Category','Type']).agg({'Rating':'mean',\n",
    "#                                                  'Reviews':'mean'\n",
    " #                                               })\n",
    "df3 = df2.groupby(['App','Installs_new_val','Size','Type']).agg({'Rating':'mean',\n",
    "                                                                 'Reviews':'mean'})\n",
    "df3"
   ]
  },
  {
   "cell_type": "code",
   "execution_count": null,
   "id": "d6c61fca-823e-4e25-9afb-3fd2821325cc",
   "metadata": {
    "tags": []
   },
   "outputs": [],
   "source": [
    "df3.reset_index()"
   ]
  },
  {
   "cell_type": "code",
   "execution_count": null,
   "id": "097d171c-56b0-4464-afca-249abefc3265",
   "metadata": {
    "tags": []
   },
   "outputs": [],
   "source": [
    "df3.dropna(axis=0, inplace=True)"
   ]
  },
  {
   "cell_type": "code",
   "execution_count": null,
   "id": "3788479c-c2d5-4b44-b6dc-497baf704452",
   "metadata": {
    "tags": []
   },
   "outputs": [],
   "source": [
    "dfinal = df.reset_index().merge(df3.reset_index(), how='inner', on='App')\n",
    "dfinal"
   ]
  },
  {
   "cell_type": "code",
   "execution_count": null,
   "id": "8ebc8958-acda-46ec-aa6e-0ad7ce9a1978",
   "metadata": {},
   "outputs": [],
   "source": [
    "#2nd method\n"
   ]
  },
  {
   "cell_type": "code",
   "execution_count": null,
   "id": "20f1f242-1120-4976-a7d9-25bfda64ff36",
   "metadata": {},
   "outputs": [],
   "source": [
    "#First let's try to eliminate some features"
   ]
  },
  {
   "cell_type": "code",
   "execution_count": 72,
   "id": "00437a92-b7ee-4499-8e03-eee387e7c32d",
   "metadata": {},
   "outputs": [
    {
     "data": {
      "text/html": [
       "<div>\n",
       "<style scoped>\n",
       "    .dataframe tbody tr th:only-of-type {\n",
       "        vertical-align: middle;\n",
       "    }\n",
       "\n",
       "    .dataframe tbody tr th {\n",
       "        vertical-align: top;\n",
       "    }\n",
       "\n",
       "    .dataframe thead th {\n",
       "        text-align: right;\n",
       "    }\n",
       "</style>\n",
       "<table border=\"1\" class=\"dataframe\">\n",
       "  <thead>\n",
       "    <tr style=\"text-align: right;\">\n",
       "      <th></th>\n",
       "      <th>App</th>\n",
       "      <th>Category</th>\n",
       "      <th>Rating</th>\n",
       "      <th>Reviews</th>\n",
       "      <th>Size</th>\n",
       "      <th>Installs</th>\n",
       "      <th>Type</th>\n",
       "      <th>Price</th>\n",
       "      <th>Content Rating</th>\n",
       "      <th>Genres</th>\n",
       "      <th>Last Updated</th>\n",
       "      <th>Current Ver</th>\n",
       "      <th>Android Ver</th>\n",
       "      <th>log_Installs</th>\n",
       "      <th>Installs_new_val</th>\n",
       "    </tr>\n",
       "  </thead>\n",
       "  <tbody>\n",
       "    <tr>\n",
       "      <th>0</th>\n",
       "      <td>Photo Editor &amp; Candy Camera &amp; Grid &amp; ScrapBook</td>\n",
       "      <td>ART_AND_DESIGN</td>\n",
       "      <td>4.1</td>\n",
       "      <td>159</td>\n",
       "      <td>19</td>\n",
       "      <td>10000.0</td>\n",
       "      <td>Free</td>\n",
       "      <td>0.0</td>\n",
       "      <td>Everyone</td>\n",
       "      <td>Art &amp; Design</td>\n",
       "      <td>January 7, 2018</td>\n",
       "      <td>1.0.0</td>\n",
       "      <td>4.0.3 and up</td>\n",
       "      <td>4.000043</td>\n",
       "      <td>MorThous</td>\n",
       "    </tr>\n",
       "    <tr>\n",
       "      <th>1</th>\n",
       "      <td>Coloring book moana</td>\n",
       "      <td>ART_AND_DESIGN</td>\n",
       "      <td>3.9</td>\n",
       "      <td>967</td>\n",
       "      <td>14</td>\n",
       "      <td>500000.0</td>\n",
       "      <td>Free</td>\n",
       "      <td>0.0</td>\n",
       "      <td>Everyone</td>\n",
       "      <td>Art &amp; Design;Pretend Play</td>\n",
       "      <td>January 15, 2018</td>\n",
       "      <td>2.0.0</td>\n",
       "      <td>4.0.3 and up</td>\n",
       "      <td>5.698971</td>\n",
       "      <td>BTW^3-5</td>\n",
       "    </tr>\n",
       "  </tbody>\n",
       "</table>\n",
       "</div>"
      ],
      "text/plain": [
       "                                              App        Category  Rating  \\\n",
       "0  Photo Editor & Candy Camera & Grid & ScrapBook  ART_AND_DESIGN     4.1   \n",
       "1                             Coloring book moana  ART_AND_DESIGN     3.9   \n",
       "\n",
       "  Reviews Size  Installs  Type  Price Content Rating  \\\n",
       "0     159   19   10000.0  Free    0.0       Everyone   \n",
       "1     967   14  500000.0  Free    0.0       Everyone   \n",
       "\n",
       "                      Genres      Last Updated Current Ver   Android Ver  \\\n",
       "0               Art & Design   January 7, 2018       1.0.0  4.0.3 and up   \n",
       "1  Art & Design;Pretend Play  January 15, 2018       2.0.0  4.0.3 and up   \n",
       "\n",
       "   log_Installs Installs_new_val  \n",
       "0      4.000043         MorThous  \n",
       "1      5.698971          BTW^3-5  "
      ]
     },
     "execution_count": 72,
     "metadata": {},
     "output_type": "execute_result"
    }
   ],
   "source": [
    "gps_new.head(2)"
   ]
  },
  {
   "cell_type": "code",
   "execution_count": null,
   "id": "3407ac5e-062c-45b0-828f-5c264166ec63",
   "metadata": {},
   "outputs": [],
   "source": [
    "#Genres vs Category"
   ]
  },
  {
   "cell_type": "code",
   "execution_count": 73,
   "id": "fe8dda0a-833e-4229-8603-96273089fa55",
   "metadata": {},
   "outputs": [
    {
     "name": "stdout",
     "output_type": "stream",
     "text": [
      "Category and Genres are related\n"
     ]
    }
   ],
   "source": [
    "cross = pd.crosstab(gps_new['Category'], gps_new['Genres'])\n",
    "test = stats.chi2_contingency(cross)\n",
    "alpha = 0.05\n",
    "if test[1] <= alpha:\n",
    "    print('Category and Genres are related')\n",
    "else:\n",
    "    print('No evidence of relation between Category & Genres ')\n"
   ]
  },
  {
   "cell_type": "code",
   "execution_count": null,
   "id": "d2000f8e-b9d6-45e3-90db-efedb3dc5367",
   "metadata": {},
   "outputs": [],
   "source": [
    "#Size vs Installs"
   ]
  },
  {
   "cell_type": "code",
   "execution_count": 74,
   "id": "39df573d-a5c9-4cb6-94ff-0fc109b8bad7",
   "metadata": {},
   "outputs": [
    {
     "data": {
      "text/html": [
       "<div>\n",
       "<style scoped>\n",
       "    .dataframe tbody tr th:only-of-type {\n",
       "        vertical-align: middle;\n",
       "    }\n",
       "\n",
       "    .dataframe tbody tr th {\n",
       "        vertical-align: top;\n",
       "    }\n",
       "\n",
       "    .dataframe thead th {\n",
       "        text-align: right;\n",
       "    }\n",
       "</style>\n",
       "<table border=\"1\" class=\"dataframe\">\n",
       "  <thead>\n",
       "    <tr style=\"text-align: right;\">\n",
       "      <th></th>\n",
       "      <th>App</th>\n",
       "      <th>Category</th>\n",
       "      <th>Rating</th>\n",
       "      <th>Reviews</th>\n",
       "      <th>Size</th>\n",
       "      <th>Type</th>\n",
       "      <th>Installs_new_val</th>\n",
       "    </tr>\n",
       "  </thead>\n",
       "  <tbody>\n",
       "    <tr>\n",
       "      <th>0</th>\n",
       "      <td>Photo Editor &amp; Candy Camera &amp; Grid &amp; ScrapBook</td>\n",
       "      <td>ART_AND_DESIGN</td>\n",
       "      <td>4.1</td>\n",
       "      <td>159</td>\n",
       "      <td>19</td>\n",
       "      <td>Free</td>\n",
       "      <td>MorThous</td>\n",
       "    </tr>\n",
       "    <tr>\n",
       "      <th>1</th>\n",
       "      <td>Coloring book moana</td>\n",
       "      <td>ART_AND_DESIGN</td>\n",
       "      <td>3.9</td>\n",
       "      <td>967</td>\n",
       "      <td>14</td>\n",
       "      <td>Free</td>\n",
       "      <td>BTW^3-5</td>\n",
       "    </tr>\n",
       "    <tr>\n",
       "      <th>2</th>\n",
       "      <td>U Launcher Lite – FREE Live Cool Themes, Hide ...</td>\n",
       "      <td>ART_AND_DESIGN</td>\n",
       "      <td>4.7</td>\n",
       "      <td>87510</td>\n",
       "      <td>87</td>\n",
       "      <td>Free</td>\n",
       "      <td>BTW^5-6</td>\n",
       "    </tr>\n",
       "    <tr>\n",
       "      <th>3</th>\n",
       "      <td>Sketch - Draw &amp; Paint</td>\n",
       "      <td>ART_AND_DESIGN</td>\n",
       "      <td>4.5</td>\n",
       "      <td>215644</td>\n",
       "      <td>25</td>\n",
       "      <td>Free</td>\n",
       "      <td>More^7</td>\n",
       "    </tr>\n",
       "    <tr>\n",
       "      <th>4</th>\n",
       "      <td>Pixel Draw - Number Art Coloring Book</td>\n",
       "      <td>ART_AND_DESIGN</td>\n",
       "      <td>4.3</td>\n",
       "      <td>967</td>\n",
       "      <td>28</td>\n",
       "      <td>Free</td>\n",
       "      <td>MorThous</td>\n",
       "    </tr>\n",
       "  </tbody>\n",
       "</table>\n",
       "</div>"
      ],
      "text/plain": [
       "                                                 App        Category  Rating  \\\n",
       "0     Photo Editor & Candy Camera & Grid & ScrapBook  ART_AND_DESIGN     4.1   \n",
       "1                                Coloring book moana  ART_AND_DESIGN     3.9   \n",
       "2  U Launcher Lite – FREE Live Cool Themes, Hide ...  ART_AND_DESIGN     4.7   \n",
       "3                              Sketch - Draw & Paint  ART_AND_DESIGN     4.5   \n",
       "4              Pixel Draw - Number Art Coloring Book  ART_AND_DESIGN     4.3   \n",
       "\n",
       "  Reviews Size  Type Installs_new_val  \n",
       "0     159   19  Free         MorThous  \n",
       "1     967   14  Free          BTW^3-5  \n",
       "2   87510   87  Free          BTW^5-6  \n",
       "3  215644   25  Free           More^7  \n",
       "4     967   28  Free         MorThous  "
      ]
     },
     "execution_count": 74,
     "metadata": {},
     "output_type": "execute_result"
    }
   ],
   "source": [
    "#gps_user_rev, gps_new\n",
    "df2 = gps_new.drop(['Installs','Price','Genres','Last Updated','Current Ver','Android Ver','log_Installs','Content Rating'], axis=1)\n",
    "df2.head()"
   ]
  },
  {
   "cell_type": "code",
   "execution_count": 75,
   "id": "1cd1be40-02a1-422b-a79d-3c0a242a3fa1",
   "metadata": {},
   "outputs": [
    {
     "data": {
      "text/html": [
       "<div>\n",
       "<style scoped>\n",
       "    .dataframe tbody tr th:only-of-type {\n",
       "        vertical-align: middle;\n",
       "    }\n",
       "\n",
       "    .dataframe tbody tr th {\n",
       "        vertical-align: top;\n",
       "    }\n",
       "\n",
       "    .dataframe thead th {\n",
       "        text-align: right;\n",
       "    }\n",
       "</style>\n",
       "<table border=\"1\" class=\"dataframe\">\n",
       "  <thead>\n",
       "    <tr style=\"text-align: right;\">\n",
       "      <th></th>\n",
       "      <th>App</th>\n",
       "      <th>Sentiment</th>\n",
       "      <th>Sentiment_Polarity</th>\n",
       "      <th>Sentiment_Subjectivity</th>\n",
       "    </tr>\n",
       "  </thead>\n",
       "  <tbody>\n",
       "    <tr>\n",
       "      <th>0</th>\n",
       "      <td>10 Best Foods for You</td>\n",
       "      <td>Positive</td>\n",
       "      <td>1.00</td>\n",
       "      <td>0.533333</td>\n",
       "    </tr>\n",
       "    <tr>\n",
       "      <th>1</th>\n",
       "      <td>10 Best Foods for You</td>\n",
       "      <td>Positive</td>\n",
       "      <td>0.25</td>\n",
       "      <td>0.288462</td>\n",
       "    </tr>\n",
       "    <tr>\n",
       "      <th>3</th>\n",
       "      <td>10 Best Foods for You</td>\n",
       "      <td>Positive</td>\n",
       "      <td>0.40</td>\n",
       "      <td>0.875000</td>\n",
       "    </tr>\n",
       "    <tr>\n",
       "      <th>4</th>\n",
       "      <td>10 Best Foods for You</td>\n",
       "      <td>Positive</td>\n",
       "      <td>1.00</td>\n",
       "      <td>0.300000</td>\n",
       "    </tr>\n",
       "    <tr>\n",
       "      <th>6</th>\n",
       "      <td>10 Best Foods for You</td>\n",
       "      <td>Positive</td>\n",
       "      <td>0.60</td>\n",
       "      <td>0.900000</td>\n",
       "    </tr>\n",
       "  </tbody>\n",
       "</table>\n",
       "</div>"
      ],
      "text/plain": [
       "                     App Sentiment  Sentiment_Polarity  Sentiment_Subjectivity\n",
       "0  10 Best Foods for You  Positive                1.00                0.533333\n",
       "1  10 Best Foods for You  Positive                0.25                0.288462\n",
       "3  10 Best Foods for You  Positive                0.40                0.875000\n",
       "4  10 Best Foods for You  Positive                1.00                0.300000\n",
       "6  10 Best Foods for You  Positive                0.60                0.900000"
      ]
     },
     "execution_count": 75,
     "metadata": {},
     "output_type": "execute_result"
    }
   ],
   "source": [
    "gps_user_rev.head()"
   ]
  },
  {
   "cell_type": "code",
   "execution_count": 80,
   "id": "b2b57ad2-b317-4dc4-84ff-b14fee7f052b",
   "metadata": {},
   "outputs": [
    {
     "data": {
      "text/html": [
       "<div>\n",
       "<style scoped>\n",
       "    .dataframe tbody tr th:only-of-type {\n",
       "        vertical-align: middle;\n",
       "    }\n",
       "\n",
       "    .dataframe tbody tr th {\n",
       "        vertical-align: top;\n",
       "    }\n",
       "\n",
       "    .dataframe thead th {\n",
       "        text-align: right;\n",
       "    }\n",
       "</style>\n",
       "<table border=\"1\" class=\"dataframe\">\n",
       "  <thead>\n",
       "    <tr style=\"text-align: right;\">\n",
       "      <th></th>\n",
       "      <th>App</th>\n",
       "      <th>Sentiment</th>\n",
       "      <th>Sentiment_Polarity</th>\n",
       "      <th>Sentiment_Subjectivity</th>\n",
       "      <th>Category</th>\n",
       "      <th>Rating</th>\n",
       "      <th>Reviews</th>\n",
       "      <th>Size</th>\n",
       "      <th>Type</th>\n",
       "      <th>Installs_new_val</th>\n",
       "    </tr>\n",
       "  </thead>\n",
       "  <tbody>\n",
       "    <tr>\n",
       "      <th>0</th>\n",
       "      <td>10 Best Foods for You</td>\n",
       "      <td>Positive</td>\n",
       "      <td>1.000000</td>\n",
       "      <td>0.533333</td>\n",
       "      <td>HEALTH_AND_FITNESS</td>\n",
       "      <td>4.0</td>\n",
       "      <td>2490</td>\n",
       "      <td>38</td>\n",
       "      <td>Free</td>\n",
       "      <td>BTW^3-5</td>\n",
       "    </tr>\n",
       "    <tr>\n",
       "      <th>1</th>\n",
       "      <td>10 Best Foods for You</td>\n",
       "      <td>Positive</td>\n",
       "      <td>0.250000</td>\n",
       "      <td>0.288462</td>\n",
       "      <td>HEALTH_AND_FITNESS</td>\n",
       "      <td>4.0</td>\n",
       "      <td>2490</td>\n",
       "      <td>38</td>\n",
       "      <td>Free</td>\n",
       "      <td>BTW^3-5</td>\n",
       "    </tr>\n",
       "    <tr>\n",
       "      <th>2</th>\n",
       "      <td>10 Best Foods for You</td>\n",
       "      <td>Positive</td>\n",
       "      <td>0.400000</td>\n",
       "      <td>0.875000</td>\n",
       "      <td>HEALTH_AND_FITNESS</td>\n",
       "      <td>4.0</td>\n",
       "      <td>2490</td>\n",
       "      <td>38</td>\n",
       "      <td>Free</td>\n",
       "      <td>BTW^3-5</td>\n",
       "    </tr>\n",
       "    <tr>\n",
       "      <th>3</th>\n",
       "      <td>10 Best Foods for You</td>\n",
       "      <td>Positive</td>\n",
       "      <td>1.000000</td>\n",
       "      <td>0.300000</td>\n",
       "      <td>HEALTH_AND_FITNESS</td>\n",
       "      <td>4.0</td>\n",
       "      <td>2490</td>\n",
       "      <td>38</td>\n",
       "      <td>Free</td>\n",
       "      <td>BTW^3-5</td>\n",
       "    </tr>\n",
       "    <tr>\n",
       "      <th>4</th>\n",
       "      <td>10 Best Foods for You</td>\n",
       "      <td>Positive</td>\n",
       "      <td>0.600000</td>\n",
       "      <td>0.900000</td>\n",
       "      <td>HEALTH_AND_FITNESS</td>\n",
       "      <td>4.0</td>\n",
       "      <td>2490</td>\n",
       "      <td>38</td>\n",
       "      <td>Free</td>\n",
       "      <td>BTW^3-5</td>\n",
       "    </tr>\n",
       "    <tr>\n",
       "      <th>...</th>\n",
       "      <td>...</td>\n",
       "      <td>...</td>\n",
       "      <td>...</td>\n",
       "      <td>...</td>\n",
       "      <td>...</td>\n",
       "      <td>...</td>\n",
       "      <td>...</td>\n",
       "      <td>...</td>\n",
       "      <td>...</td>\n",
       "      <td>...</td>\n",
       "    </tr>\n",
       "    <tr>\n",
       "      <th>35163</th>\n",
       "      <td>Housing-Real Estate &amp; Property</td>\n",
       "      <td>Positive</td>\n",
       "      <td>0.173333</td>\n",
       "      <td>0.486667</td>\n",
       "      <td>LIFESTYLE</td>\n",
       "      <td>4.1</td>\n",
       "      <td>28301</td>\n",
       "      <td></td>\n",
       "      <td>Free</td>\n",
       "      <td>BTW^3-5</td>\n",
       "    </tr>\n",
       "    <tr>\n",
       "      <th>35164</th>\n",
       "      <td>Housing-Real Estate &amp; Property</td>\n",
       "      <td>Positive</td>\n",
       "      <td>0.225000</td>\n",
       "      <td>0.447222</td>\n",
       "      <td>LIFESTYLE</td>\n",
       "      <td>4.1</td>\n",
       "      <td>28301</td>\n",
       "      <td></td>\n",
       "      <td>Free</td>\n",
       "      <td>BTW^3-5</td>\n",
       "    </tr>\n",
       "    <tr>\n",
       "      <th>35165</th>\n",
       "      <td>Housing-Real Estate &amp; Property</td>\n",
       "      <td>Negative</td>\n",
       "      <td>-0.287500</td>\n",
       "      <td>0.250000</td>\n",
       "      <td>LIFESTYLE</td>\n",
       "      <td>4.1</td>\n",
       "      <td>28301</td>\n",
       "      <td></td>\n",
       "      <td>Free</td>\n",
       "      <td>BTW^3-5</td>\n",
       "    </tr>\n",
       "    <tr>\n",
       "      <th>35166</th>\n",
       "      <td>Housing-Real Estate &amp; Property</td>\n",
       "      <td>Positive</td>\n",
       "      <td>0.800000</td>\n",
       "      <td>1.000000</td>\n",
       "      <td>LIFESTYLE</td>\n",
       "      <td>4.1</td>\n",
       "      <td>28301</td>\n",
       "      <td></td>\n",
       "      <td>Free</td>\n",
       "      <td>BTW^3-5</td>\n",
       "    </tr>\n",
       "    <tr>\n",
       "      <th>35167</th>\n",
       "      <td>Housing-Real Estate &amp; Property</td>\n",
       "      <td>Negative</td>\n",
       "      <td>-0.316667</td>\n",
       "      <td>0.400000</td>\n",
       "      <td>LIFESTYLE</td>\n",
       "      <td>4.1</td>\n",
       "      <td>28301</td>\n",
       "      <td></td>\n",
       "      <td>Free</td>\n",
       "      <td>BTW^3-5</td>\n",
       "    </tr>\n",
       "  </tbody>\n",
       "</table>\n",
       "<p>35168 rows × 10 columns</p>\n",
       "</div>"
      ],
      "text/plain": [
       "                                  App Sentiment  Sentiment_Polarity  \\\n",
       "0               10 Best Foods for You  Positive            1.000000   \n",
       "1               10 Best Foods for You  Positive            0.250000   \n",
       "2               10 Best Foods for You  Positive            0.400000   \n",
       "3               10 Best Foods for You  Positive            1.000000   \n",
       "4               10 Best Foods for You  Positive            0.600000   \n",
       "...                               ...       ...                 ...   \n",
       "35163  Housing-Real Estate & Property  Positive            0.173333   \n",
       "35164  Housing-Real Estate & Property  Positive            0.225000   \n",
       "35165  Housing-Real Estate & Property  Negative           -0.287500   \n",
       "35166  Housing-Real Estate & Property  Positive            0.800000   \n",
       "35167  Housing-Real Estate & Property  Negative           -0.316667   \n",
       "\n",
       "       Sentiment_Subjectivity            Category  Rating Reviews Size  Type  \\\n",
       "0                    0.533333  HEALTH_AND_FITNESS     4.0    2490   38  Free   \n",
       "1                    0.288462  HEALTH_AND_FITNESS     4.0    2490   38  Free   \n",
       "2                    0.875000  HEALTH_AND_FITNESS     4.0    2490   38  Free   \n",
       "3                    0.300000  HEALTH_AND_FITNESS     4.0    2490   38  Free   \n",
       "4                    0.900000  HEALTH_AND_FITNESS     4.0    2490   38  Free   \n",
       "...                       ...                 ...     ...     ...  ...   ...   \n",
       "35163                0.486667           LIFESTYLE     4.1   28301       Free   \n",
       "35164                0.447222           LIFESTYLE     4.1   28301       Free   \n",
       "35165                0.250000           LIFESTYLE     4.1   28301       Free   \n",
       "35166                1.000000           LIFESTYLE     4.1   28301       Free   \n",
       "35167                0.400000           LIFESTYLE     4.1   28301       Free   \n",
       "\n",
       "      Installs_new_val  \n",
       "0              BTW^3-5  \n",
       "1              BTW^3-5  \n",
       "2              BTW^3-5  \n",
       "3              BTW^3-5  \n",
       "4              BTW^3-5  \n",
       "...                ...  \n",
       "35163          BTW^3-5  \n",
       "35164          BTW^3-5  \n",
       "35165          BTW^3-5  \n",
       "35166          BTW^3-5  \n",
       "35167          BTW^3-5  \n",
       "\n",
       "[35168 rows x 10 columns]"
      ]
     },
     "execution_count": 80,
     "metadata": {},
     "output_type": "execute_result"
    }
   ],
   "source": [
    "dffinal = gps_user_rev.merge(df2, how='inner', on='App')\n",
    "dffinal"
   ]
  },
  {
   "cell_type": "code",
   "execution_count": 81,
   "id": "8f67fe22-e63f-4e5a-b7e0-c8007b1b8c9b",
   "metadata": {},
   "outputs": [
    {
     "data": {
      "text/html": [
       "<div>\n",
       "<style scoped>\n",
       "    .dataframe tbody tr th:only-of-type {\n",
       "        vertical-align: middle;\n",
       "    }\n",
       "\n",
       "    .dataframe tbody tr th {\n",
       "        vertical-align: top;\n",
       "    }\n",
       "\n",
       "    .dataframe thead th {\n",
       "        text-align: right;\n",
       "    }\n",
       "</style>\n",
       "<table border=\"1\" class=\"dataframe\">\n",
       "  <thead>\n",
       "    <tr style=\"text-align: right;\">\n",
       "      <th></th>\n",
       "      <th></th>\n",
       "      <th></th>\n",
       "      <th></th>\n",
       "      <th></th>\n",
       "      <th>Sentiment_Subjectivity</th>\n",
       "      <th>Sentiment_Polarity</th>\n",
       "      <th>Rating</th>\n",
       "      <th>Reviews</th>\n",
       "    </tr>\n",
       "    <tr>\n",
       "      <th>App</th>\n",
       "      <th>Sentiment</th>\n",
       "      <th>Type</th>\n",
       "      <th>Installs_new_val</th>\n",
       "      <th>Category</th>\n",
       "      <th></th>\n",
       "      <th></th>\n",
       "      <th></th>\n",
       "      <th></th>\n",
       "    </tr>\n",
       "  </thead>\n",
       "  <tbody>\n",
       "    <tr>\n",
       "      <th rowspan=\"5\" valign=\"top\">10 Best Foods for You</th>\n",
       "      <th rowspan=\"5\" valign=\"top\">Negative</th>\n",
       "      <th rowspan=\"5\" valign=\"top\">Free</th>\n",
       "      <th rowspan=\"5\" valign=\"top\">Neg</th>\n",
       "      <th>ART_AND_DESIGN</th>\n",
       "      <td>NaN</td>\n",
       "      <td>NaN</td>\n",
       "      <td>NaN</td>\n",
       "      <td>NaN</td>\n",
       "    </tr>\n",
       "    <tr>\n",
       "      <th>AUTO_AND_VEHICLES</th>\n",
       "      <td>NaN</td>\n",
       "      <td>NaN</td>\n",
       "      <td>NaN</td>\n",
       "      <td>NaN</td>\n",
       "    </tr>\n",
       "    <tr>\n",
       "      <th>BEAUTY</th>\n",
       "      <td>NaN</td>\n",
       "      <td>NaN</td>\n",
       "      <td>NaN</td>\n",
       "      <td>NaN</td>\n",
       "    </tr>\n",
       "    <tr>\n",
       "      <th>BOOKS_AND_REFERENCE</th>\n",
       "      <td>NaN</td>\n",
       "      <td>NaN</td>\n",
       "      <td>NaN</td>\n",
       "      <td>NaN</td>\n",
       "    </tr>\n",
       "    <tr>\n",
       "      <th>BUSINESS</th>\n",
       "      <td>NaN</td>\n",
       "      <td>NaN</td>\n",
       "      <td>NaN</td>\n",
       "      <td>NaN</td>\n",
       "    </tr>\n",
       "    <tr>\n",
       "      <th>...</th>\n",
       "      <th>...</th>\n",
       "      <th>...</th>\n",
       "      <th>...</th>\n",
       "      <th>...</th>\n",
       "      <td>...</td>\n",
       "      <td>...</td>\n",
       "      <td>...</td>\n",
       "      <td>...</td>\n",
       "    </tr>\n",
       "    <tr>\n",
       "      <th rowspan=\"5\" valign=\"top\">Housing-Real Estate &amp; Property</th>\n",
       "      <th rowspan=\"5\" valign=\"top\">Positive</th>\n",
       "      <th rowspan=\"5\" valign=\"top\">Paid</th>\n",
       "      <th rowspan=\"5\" valign=\"top\">More^7</th>\n",
       "      <th>SPORTS</th>\n",
       "      <td>NaN</td>\n",
       "      <td>NaN</td>\n",
       "      <td>NaN</td>\n",
       "      <td>NaN</td>\n",
       "    </tr>\n",
       "    <tr>\n",
       "      <th>TOOLS</th>\n",
       "      <td>NaN</td>\n",
       "      <td>NaN</td>\n",
       "      <td>NaN</td>\n",
       "      <td>NaN</td>\n",
       "    </tr>\n",
       "    <tr>\n",
       "      <th>TRAVEL_AND_LOCAL</th>\n",
       "      <td>NaN</td>\n",
       "      <td>NaN</td>\n",
       "      <td>NaN</td>\n",
       "      <td>NaN</td>\n",
       "    </tr>\n",
       "    <tr>\n",
       "      <th>VIDEO_PLAYERS</th>\n",
       "      <td>NaN</td>\n",
       "      <td>NaN</td>\n",
       "      <td>NaN</td>\n",
       "      <td>NaN</td>\n",
       "    </tr>\n",
       "    <tr>\n",
       "      <th>WEATHER</th>\n",
       "      <td>NaN</td>\n",
       "      <td>NaN</td>\n",
       "      <td>NaN</td>\n",
       "      <td>NaN</td>\n",
       "    </tr>\n",
       "  </tbody>\n",
       "</table>\n",
       "<p>807840 rows × 4 columns</p>\n",
       "</div>"
      ],
      "text/plain": [
       "                                                                                    Sentiment_Subjectivity  \\\n",
       "App                            Sentiment Type Installs_new_val Category                                      \n",
       "10 Best Foods for You          Negative  Free Neg              ART_AND_DESIGN                          NaN   \n",
       "                                                               AUTO_AND_VEHICLES                       NaN   \n",
       "                                                               BEAUTY                                  NaN   \n",
       "                                                               BOOKS_AND_REFERENCE                     NaN   \n",
       "                                                               BUSINESS                                NaN   \n",
       "...                                                                                                    ...   \n",
       "Housing-Real Estate & Property Positive  Paid More^7           SPORTS                                  NaN   \n",
       "                                                               TOOLS                                   NaN   \n",
       "                                                               TRAVEL_AND_LOCAL                        NaN   \n",
       "                                                               VIDEO_PLAYERS                           NaN   \n",
       "                                                               WEATHER                                 NaN   \n",
       "\n",
       "                                                                                    Sentiment_Polarity  \\\n",
       "App                            Sentiment Type Installs_new_val Category                                  \n",
       "10 Best Foods for You          Negative  Free Neg              ART_AND_DESIGN                      NaN   \n",
       "                                                               AUTO_AND_VEHICLES                   NaN   \n",
       "                                                               BEAUTY                              NaN   \n",
       "                                                               BOOKS_AND_REFERENCE                 NaN   \n",
       "                                                               BUSINESS                            NaN   \n",
       "...                                                                                                ...   \n",
       "Housing-Real Estate & Property Positive  Paid More^7           SPORTS                              NaN   \n",
       "                                                               TOOLS                               NaN   \n",
       "                                                               TRAVEL_AND_LOCAL                    NaN   \n",
       "                                                               VIDEO_PLAYERS                       NaN   \n",
       "                                                               WEATHER                             NaN   \n",
       "\n",
       "                                                                                    Rating  \\\n",
       "App                            Sentiment Type Installs_new_val Category                      \n",
       "10 Best Foods for You          Negative  Free Neg              ART_AND_DESIGN          NaN   \n",
       "                                                               AUTO_AND_VEHICLES       NaN   \n",
       "                                                               BEAUTY                  NaN   \n",
       "                                                               BOOKS_AND_REFERENCE     NaN   \n",
       "                                                               BUSINESS                NaN   \n",
       "...                                                                                    ...   \n",
       "Housing-Real Estate & Property Positive  Paid More^7           SPORTS                  NaN   \n",
       "                                                               TOOLS                   NaN   \n",
       "                                                               TRAVEL_AND_LOCAL        NaN   \n",
       "                                                               VIDEO_PLAYERS           NaN   \n",
       "                                                               WEATHER                 NaN   \n",
       "\n",
       "                                                                                    Reviews  \n",
       "App                            Sentiment Type Installs_new_val Category                      \n",
       "10 Best Foods for You          Negative  Free Neg              ART_AND_DESIGN           NaN  \n",
       "                                                               AUTO_AND_VEHICLES        NaN  \n",
       "                                                               BEAUTY                   NaN  \n",
       "                                                               BOOKS_AND_REFERENCE      NaN  \n",
       "                                                               BUSINESS                 NaN  \n",
       "...                                                                                     ...  \n",
       "Housing-Real Estate & Property Positive  Paid More^7           SPORTS                   NaN  \n",
       "                                                               TOOLS                    NaN  \n",
       "                                                               TRAVEL_AND_LOCAL         NaN  \n",
       "                                                               VIDEO_PLAYERS            NaN  \n",
       "                                                               WEATHER                  NaN  \n",
       "\n",
       "[807840 rows x 4 columns]"
      ]
     },
     "execution_count": 81,
     "metadata": {},
     "output_type": "execute_result"
    }
   ],
   "source": [
    "grouped_df = dffinal.groupby(['App','Sentiment','Type','Installs_new_val','Category']).agg({'Sentiment_Subjectivity':'mean',\n",
    "                                                                                           'Sentiment_Polarity':'mean',\n",
    "                                                                                           'Rating':'mean',\n",
    "                                                                                           'Reviews':'mean'})\n",
    "\n",
    "grouped_df"
   ]
  },
  {
   "cell_type": "code",
   "execution_count": 82,
   "id": "789310ce-8970-4b67-8c4e-48719a1ee31a",
   "metadata": {
    "tags": []
   },
   "outputs": [
    {
     "data": {
      "text/html": [
       "<div>\n",
       "<style scoped>\n",
       "    .dataframe tbody tr th:only-of-type {\n",
       "        vertical-align: middle;\n",
       "    }\n",
       "\n",
       "    .dataframe tbody tr th {\n",
       "        vertical-align: top;\n",
       "    }\n",
       "\n",
       "    .dataframe thead th {\n",
       "        text-align: right;\n",
       "    }\n",
       "</style>\n",
       "<table border=\"1\" class=\"dataframe\">\n",
       "  <thead>\n",
       "    <tr style=\"text-align: right;\">\n",
       "      <th></th>\n",
       "      <th></th>\n",
       "      <th></th>\n",
       "      <th></th>\n",
       "      <th></th>\n",
       "      <th>Sentiment_Subjectivity</th>\n",
       "      <th>Sentiment_Polarity</th>\n",
       "      <th>Rating</th>\n",
       "      <th>Reviews</th>\n",
       "    </tr>\n",
       "    <tr>\n",
       "      <th>App</th>\n",
       "      <th>Sentiment</th>\n",
       "      <th>Type</th>\n",
       "      <th>Installs_new_val</th>\n",
       "      <th>Category</th>\n",
       "      <th></th>\n",
       "      <th></th>\n",
       "      <th></th>\n",
       "      <th></th>\n",
       "    </tr>\n",
       "  </thead>\n",
       "  <tbody>\n",
       "    <tr>\n",
       "      <th rowspan=\"3\" valign=\"top\">10 Best Foods for You</th>\n",
       "      <th>Negative</th>\n",
       "      <th>Free</th>\n",
       "      <th>BTW^3-5</th>\n",
       "      <th>HEALTH_AND_FITNESS</th>\n",
       "      <td>0.443750</td>\n",
       "      <td>-0.456250</td>\n",
       "      <td>4.0</td>\n",
       "      <td>6.225623e+14</td>\n",
       "    </tr>\n",
       "    <tr>\n",
       "      <th>Neutral</th>\n",
       "      <th>Free</th>\n",
       "      <th>BTW^3-5</th>\n",
       "      <th>HEALTH_AND_FITNESS</th>\n",
       "      <td>0.000000</td>\n",
       "      <td>0.000000</td>\n",
       "      <td>4.0</td>\n",
       "      <td>2.490000e+03</td>\n",
       "    </tr>\n",
       "    <tr>\n",
       "      <th>Positive</th>\n",
       "      <th>Free</th>\n",
       "      <th>BTW^3-5</th>\n",
       "      <th>HEALTH_AND_FITNESS</th>\n",
       "      <td>0.576849</td>\n",
       "      <td>0.540442</td>\n",
       "      <td>4.0</td>\n",
       "      <td>4.220761e+233</td>\n",
       "    </tr>\n",
       "    <tr>\n",
       "      <th rowspan=\"2\" valign=\"top\">11st</th>\n",
       "      <th>Negative</th>\n",
       "      <th>Free</th>\n",
       "      <th>BTW^5-6</th>\n",
       "      <th>SHOPPING</th>\n",
       "      <td>0.435615</td>\n",
       "      <td>-0.336458</td>\n",
       "      <td>3.8</td>\n",
       "      <td>6.961784e+33</td>\n",
       "    </tr>\n",
       "    <tr>\n",
       "      <th>Neutral</th>\n",
       "      <th>Free</th>\n",
       "      <th>BTW^5-6</th>\n",
       "      <th>SHOPPING</th>\n",
       "      <td>0.444444</td>\n",
       "      <td>0.000000</td>\n",
       "      <td>3.8</td>\n",
       "      <td>1.624416e+14</td>\n",
       "    </tr>\n",
       "    <tr>\n",
       "      <th>...</th>\n",
       "      <th>...</th>\n",
       "      <th>...</th>\n",
       "      <th>...</th>\n",
       "      <th>...</th>\n",
       "      <td>...</td>\n",
       "      <td>...</td>\n",
       "      <td>...</td>\n",
       "      <td>...</td>\n",
       "    </tr>\n",
       "    <tr>\n",
       "      <th rowspan=\"2\" valign=\"top\">Hotwire Hotel &amp; Car Rental App</th>\n",
       "      <th>Neutral</th>\n",
       "      <th>Free</th>\n",
       "      <th>BTW^3-5</th>\n",
       "      <th>TRAVEL_AND_LOCAL</th>\n",
       "      <td>0.259375</td>\n",
       "      <td>0.000000</td>\n",
       "      <td>4.3</td>\n",
       "      <td>2.580776e+18</td>\n",
       "    </tr>\n",
       "    <tr>\n",
       "      <th>Positive</th>\n",
       "      <th>Free</th>\n",
       "      <th>BTW^3-5</th>\n",
       "      <th>TRAVEL_AND_LOCAL</th>\n",
       "      <td>0.593508</td>\n",
       "      <td>0.479520</td>\n",
       "      <td>4.3</td>\n",
       "      <td>6.882069e+72</td>\n",
       "    </tr>\n",
       "    <tr>\n",
       "      <th rowspan=\"3\" valign=\"top\">Housing-Real Estate &amp; Property</th>\n",
       "      <th>Negative</th>\n",
       "      <th>Free</th>\n",
       "      <th>BTW^3-5</th>\n",
       "      <th>LIFESTYLE</th>\n",
       "      <td>0.391038</td>\n",
       "      <td>-0.319918</td>\n",
       "      <td>4.1</td>\n",
       "      <td>3.144587e+43</td>\n",
       "    </tr>\n",
       "    <tr>\n",
       "      <th>Neutral</th>\n",
       "      <th>Free</th>\n",
       "      <th>BTW^3-5</th>\n",
       "      <th>LIFESTYLE</th>\n",
       "      <td>0.000000</td>\n",
       "      <td>0.000000</td>\n",
       "      <td>4.1</td>\n",
       "      <td>2.830100e+04</td>\n",
       "    </tr>\n",
       "    <tr>\n",
       "      <th>Positive</th>\n",
       "      <th>Free</th>\n",
       "      <th>BTW^3-5</th>\n",
       "      <th>LIFESTYLE</th>\n",
       "      <td>0.528727</td>\n",
       "      <td>0.366162</td>\n",
       "      <td>4.1</td>\n",
       "      <td>3.537660e+38</td>\n",
       "    </tr>\n",
       "  </tbody>\n",
       "</table>\n",
       "<p>2330 rows × 4 columns</p>\n",
       "</div>"
      ],
      "text/plain": [
       "                                                                                   Sentiment_Subjectivity  \\\n",
       "App                            Sentiment Type Installs_new_val Category                                     \n",
       "10 Best Foods for You          Negative  Free BTW^3-5          HEALTH_AND_FITNESS                0.443750   \n",
       "                               Neutral   Free BTW^3-5          HEALTH_AND_FITNESS                0.000000   \n",
       "                               Positive  Free BTW^3-5          HEALTH_AND_FITNESS                0.576849   \n",
       "11st                           Negative  Free BTW^5-6          SHOPPING                          0.435615   \n",
       "                               Neutral   Free BTW^5-6          SHOPPING                          0.444444   \n",
       "...                                                                                                   ...   \n",
       "Hotwire Hotel & Car Rental App Neutral   Free BTW^3-5          TRAVEL_AND_LOCAL                  0.259375   \n",
       "                               Positive  Free BTW^3-5          TRAVEL_AND_LOCAL                  0.593508   \n",
       "Housing-Real Estate & Property Negative  Free BTW^3-5          LIFESTYLE                         0.391038   \n",
       "                               Neutral   Free BTW^3-5          LIFESTYLE                         0.000000   \n",
       "                               Positive  Free BTW^3-5          LIFESTYLE                         0.528727   \n",
       "\n",
       "                                                                                   Sentiment_Polarity  \\\n",
       "App                            Sentiment Type Installs_new_val Category                                 \n",
       "10 Best Foods for You          Negative  Free BTW^3-5          HEALTH_AND_FITNESS           -0.456250   \n",
       "                               Neutral   Free BTW^3-5          HEALTH_AND_FITNESS            0.000000   \n",
       "                               Positive  Free BTW^3-5          HEALTH_AND_FITNESS            0.540442   \n",
       "11st                           Negative  Free BTW^5-6          SHOPPING                     -0.336458   \n",
       "                               Neutral   Free BTW^5-6          SHOPPING                      0.000000   \n",
       "...                                                                                               ...   \n",
       "Hotwire Hotel & Car Rental App Neutral   Free BTW^3-5          TRAVEL_AND_LOCAL              0.000000   \n",
       "                               Positive  Free BTW^3-5          TRAVEL_AND_LOCAL              0.479520   \n",
       "Housing-Real Estate & Property Negative  Free BTW^3-5          LIFESTYLE                    -0.319918   \n",
       "                               Neutral   Free BTW^3-5          LIFESTYLE                     0.000000   \n",
       "                               Positive  Free BTW^3-5          LIFESTYLE                     0.366162   \n",
       "\n",
       "                                                                                   Rating  \\\n",
       "App                            Sentiment Type Installs_new_val Category                     \n",
       "10 Best Foods for You          Negative  Free BTW^3-5          HEALTH_AND_FITNESS     4.0   \n",
       "                               Neutral   Free BTW^3-5          HEALTH_AND_FITNESS     4.0   \n",
       "                               Positive  Free BTW^3-5          HEALTH_AND_FITNESS     4.0   \n",
       "11st                           Negative  Free BTW^5-6          SHOPPING               3.8   \n",
       "                               Neutral   Free BTW^5-6          SHOPPING               3.8   \n",
       "...                                                                                   ...   \n",
       "Hotwire Hotel & Car Rental App Neutral   Free BTW^3-5          TRAVEL_AND_LOCAL       4.3   \n",
       "                               Positive  Free BTW^3-5          TRAVEL_AND_LOCAL       4.3   \n",
       "Housing-Real Estate & Property Negative  Free BTW^3-5          LIFESTYLE              4.1   \n",
       "                               Neutral   Free BTW^3-5          LIFESTYLE              4.1   \n",
       "                               Positive  Free BTW^3-5          LIFESTYLE              4.1   \n",
       "\n",
       "                                                                                         Reviews  \n",
       "App                            Sentiment Type Installs_new_val Category                           \n",
       "10 Best Foods for You          Negative  Free BTW^3-5          HEALTH_AND_FITNESS   6.225623e+14  \n",
       "                               Neutral   Free BTW^3-5          HEALTH_AND_FITNESS   2.490000e+03  \n",
       "                               Positive  Free BTW^3-5          HEALTH_AND_FITNESS  4.220761e+233  \n",
       "11st                           Negative  Free BTW^5-6          SHOPPING             6.961784e+33  \n",
       "                               Neutral   Free BTW^5-6          SHOPPING             1.624416e+14  \n",
       "...                                                                                          ...  \n",
       "Hotwire Hotel & Car Rental App Neutral   Free BTW^3-5          TRAVEL_AND_LOCAL     2.580776e+18  \n",
       "                               Positive  Free BTW^3-5          TRAVEL_AND_LOCAL     6.882069e+72  \n",
       "Housing-Real Estate & Property Negative  Free BTW^3-5          LIFESTYLE            3.144587e+43  \n",
       "                               Neutral   Free BTW^3-5          LIFESTYLE            2.830100e+04  \n",
       "                               Positive  Free BTW^3-5          LIFESTYLE            3.537660e+38  \n",
       "\n",
       "[2330 rows x 4 columns]"
      ]
     },
     "execution_count": 82,
     "metadata": {},
     "output_type": "execute_result"
    }
   ],
   "source": [
    "grouped_df.dropna(axis=0, inplace=True)\n",
    "grouped_df"
   ]
  },
  {
   "cell_type": "code",
   "execution_count": 83,
   "id": "22d03475-8488-41ab-99e6-873e6051f4f3",
   "metadata": {
    "tags": []
   },
   "outputs": [
    {
     "data": {
      "text/html": [
       "<div>\n",
       "<style scoped>\n",
       "    .dataframe tbody tr th:only-of-type {\n",
       "        vertical-align: middle;\n",
       "    }\n",
       "\n",
       "    .dataframe tbody tr th {\n",
       "        vertical-align: top;\n",
       "    }\n",
       "\n",
       "    .dataframe thead th {\n",
       "        text-align: right;\n",
       "    }\n",
       "</style>\n",
       "<table border=\"1\" class=\"dataframe\">\n",
       "  <thead>\n",
       "    <tr style=\"text-align: right;\">\n",
       "      <th></th>\n",
       "      <th></th>\n",
       "      <th></th>\n",
       "      <th></th>\n",
       "      <th></th>\n",
       "      <th>Sentiment_Subjectivity</th>\n",
       "      <th>Sentiment_Polarity</th>\n",
       "      <th>Rating</th>\n",
       "      <th>Reviews</th>\n",
       "    </tr>\n",
       "    <tr>\n",
       "      <th>App</th>\n",
       "      <th>Sentiment</th>\n",
       "      <th>Type</th>\n",
       "      <th>Installs_new_val</th>\n",
       "      <th>Category</th>\n",
       "      <th></th>\n",
       "      <th></th>\n",
       "      <th></th>\n",
       "      <th></th>\n",
       "    </tr>\n",
       "  </thead>\n",
       "  <tbody>\n",
       "    <tr>\n",
       "      <th rowspan=\"3\" valign=\"top\">10 Best Foods for You</th>\n",
       "      <th>Negative</th>\n",
       "      <th>Free</th>\n",
       "      <th>BTW^3-5</th>\n",
       "      <th>HEALTH_AND_FITNESS</th>\n",
       "      <td>0.443750</td>\n",
       "      <td>-0.456250</td>\n",
       "      <td>4.0</td>\n",
       "      <td>6.225623e+14</td>\n",
       "    </tr>\n",
       "    <tr>\n",
       "      <th>Neutral</th>\n",
       "      <th>Free</th>\n",
       "      <th>BTW^3-5</th>\n",
       "      <th>HEALTH_AND_FITNESS</th>\n",
       "      <td>0.000000</td>\n",
       "      <td>0.000000</td>\n",
       "      <td>4.0</td>\n",
       "      <td>2.490000e+03</td>\n",
       "    </tr>\n",
       "    <tr>\n",
       "      <th>Positive</th>\n",
       "      <th>Free</th>\n",
       "      <th>BTW^3-5</th>\n",
       "      <th>HEALTH_AND_FITNESS</th>\n",
       "      <td>0.576849</td>\n",
       "      <td>0.540442</td>\n",
       "      <td>4.0</td>\n",
       "      <td>4.220761e+233</td>\n",
       "    </tr>\n",
       "    <tr>\n",
       "      <th rowspan=\"3\" valign=\"top\">11st</th>\n",
       "      <th>Negative</th>\n",
       "      <th>Free</th>\n",
       "      <th>BTW^5-6</th>\n",
       "      <th>SHOPPING</th>\n",
       "      <td>0.435615</td>\n",
       "      <td>-0.336458</td>\n",
       "      <td>3.8</td>\n",
       "      <td>6.961784e+33</td>\n",
       "    </tr>\n",
       "    <tr>\n",
       "      <th>Neutral</th>\n",
       "      <th>Free</th>\n",
       "      <th>BTW^5-6</th>\n",
       "      <th>SHOPPING</th>\n",
       "      <td>0.444444</td>\n",
       "      <td>0.000000</td>\n",
       "      <td>3.8</td>\n",
       "      <td>1.624416e+14</td>\n",
       "    </tr>\n",
       "    <tr>\n",
       "      <th>Positive</th>\n",
       "      <th>Free</th>\n",
       "      <th>BTW^5-6</th>\n",
       "      <th>SHOPPING</th>\n",
       "      <td>0.551349</td>\n",
       "      <td>0.363525</td>\n",
       "      <td>3.8</td>\n",
       "      <td>2.564868e+93</td>\n",
       "    </tr>\n",
       "  </tbody>\n",
       "</table>\n",
       "</div>"
      ],
      "text/plain": [
       "                                                                          Sentiment_Subjectivity  \\\n",
       "App                   Sentiment Type Installs_new_val Category                                     \n",
       "10 Best Foods for You Negative  Free BTW^3-5          HEALTH_AND_FITNESS                0.443750   \n",
       "                      Neutral   Free BTW^3-5          HEALTH_AND_FITNESS                0.000000   \n",
       "                      Positive  Free BTW^3-5          HEALTH_AND_FITNESS                0.576849   \n",
       "11st                  Negative  Free BTW^5-6          SHOPPING                          0.435615   \n",
       "                      Neutral   Free BTW^5-6          SHOPPING                          0.444444   \n",
       "                      Positive  Free BTW^5-6          SHOPPING                          0.551349   \n",
       "\n",
       "                                                                          Sentiment_Polarity  \\\n",
       "App                   Sentiment Type Installs_new_val Category                                 \n",
       "10 Best Foods for You Negative  Free BTW^3-5          HEALTH_AND_FITNESS           -0.456250   \n",
       "                      Neutral   Free BTW^3-5          HEALTH_AND_FITNESS            0.000000   \n",
       "                      Positive  Free BTW^3-5          HEALTH_AND_FITNESS            0.540442   \n",
       "11st                  Negative  Free BTW^5-6          SHOPPING                     -0.336458   \n",
       "                      Neutral   Free BTW^5-6          SHOPPING                      0.000000   \n",
       "                      Positive  Free BTW^5-6          SHOPPING                      0.363525   \n",
       "\n",
       "                                                                          Rating  \\\n",
       "App                   Sentiment Type Installs_new_val Category                     \n",
       "10 Best Foods for You Negative  Free BTW^3-5          HEALTH_AND_FITNESS     4.0   \n",
       "                      Neutral   Free BTW^3-5          HEALTH_AND_FITNESS     4.0   \n",
       "                      Positive  Free BTW^3-5          HEALTH_AND_FITNESS     4.0   \n",
       "11st                  Negative  Free BTW^5-6          SHOPPING               3.8   \n",
       "                      Neutral   Free BTW^5-6          SHOPPING               3.8   \n",
       "                      Positive  Free BTW^5-6          SHOPPING               3.8   \n",
       "\n",
       "                                                                                Reviews  \n",
       "App                   Sentiment Type Installs_new_val Category                           \n",
       "10 Best Foods for You Negative  Free BTW^3-5          HEALTH_AND_FITNESS   6.225623e+14  \n",
       "                      Neutral   Free BTW^3-5          HEALTH_AND_FITNESS   2.490000e+03  \n",
       "                      Positive  Free BTW^3-5          HEALTH_AND_FITNESS  4.220761e+233  \n",
       "11st                  Negative  Free BTW^5-6          SHOPPING             6.961784e+33  \n",
       "                      Neutral   Free BTW^5-6          SHOPPING             1.624416e+14  \n",
       "                      Positive  Free BTW^5-6          SHOPPING             2.564868e+93  "
      ]
     },
     "execution_count": 83,
     "metadata": {},
     "output_type": "execute_result"
    }
   ],
   "source": [
    "grouped_df.reset_index()\n",
    "grouped_df.head(6)"
   ]
  },
  {
   "cell_type": "code",
   "execution_count": 84,
   "id": "33168cc2-ba2a-46c7-835a-869b6ca8da85",
   "metadata": {},
   "outputs": [
    {
     "data": {
      "text/plain": [
       "<seaborn.axisgrid.FacetGrid at 0x7fb33c504160>"
      ]
     },
     "execution_count": 84,
     "metadata": {},
     "output_type": "execute_result"
    },
    {
     "data": {
      "image/png": "[encoded data removed]",
      "text/plain": [
       "<Figure size 416.5x360 with 1 Axes>"
      ]
     },
     "metadata": {},
     "output_type": "display_data"
    }
   ],
   "source": [
    "sns.displot(grouped_df, x=\"Installs_new_val\", hue= \"Type\")"
   ]
  },
  {
   "cell_type": "code",
   "execution_count": 85,
   "id": "9cab1dcc-dec4-4013-ad6e-e08c02340583",
   "metadata": {},
   "outputs": [
    {
     "data": {
      "image/png": "[encoded data removed]",
      "text/plain": [
       "<Figure size 648x504 with 4 Axes>"
      ]
     },
     "metadata": {},
     "output_type": "display_data"
    }
   ],
   "source": [
    "\n",
    "\n",
    "fig, axs = plt.subplots(2, 2, figsize=(9, 7))\n",
    "\n",
    "sns.histplot(data=grouped_df, x=\"Sentiment_Subjectivity\", kde=True, color=\"skyblue\", ax=axs[0, 0])\n",
    "sns.histplot(data=grouped_df, x=\"Sentiment_Polarity\", kde=True, color=\"olive\", ax=axs[0, 1])\n",
    "\n",
    "plt.show()\n",
    "\n"
   ]
  },
  {
   "cell_type": "markdown",
   "id": "e13a4a94-e617-482e-8e10-2c86eb92d0d0",
   "metadata": {},
   "source": [
    "Sentiment_Polarity appear to have a bimodal distribution. "
   ]
  },
  {
   "cell_type": "markdown",
   "id": "add83190-7808-413c-8e08-e4048bc08387",
   "metadata": {},
   "source": [
    "Let's check the joint distribution of Sentiment_Polarity and Sentiment_Subjectivity."
   ]
  },
  {
   "cell_type": "code",
   "execution_count": 86,
   "id": "aa2349fe-54aa-4f58-9962-35fd65bf2593",
   "metadata": {},
   "outputs": [
    {
     "data": {
      "text/plain": [
       "<seaborn.axisgrid.FacetGrid at 0x7fb30f65c280>"
      ]
     },
     "execution_count": 86,
     "metadata": {},
     "output_type": "execute_result"
    },
    {
     "data": {
      "image/png": "[encoded data removed]",
      "text/plain": [
       "<Figure size 435.625x360 with 1 Axes>"
      ]
     },
     "metadata": {},
     "output_type": "display_data"
    }
   ],
   "source": [
    "sns.displot(grouped_df, x='Sentiment_Subjectivity', y='Sentiment_Polarity', hue= 'Sentiment')"
   ]
  },
  {
   "cell_type": "markdown",
   "id": "f962ce2b-ff48-4f80-96a5-1d9ac627895c",
   "metadata": {},
   "source": [
    "There are a clear separation between positive and negative opinion, hence the bimodality of the distribution of Sentiment_Polarity.\n",
    "(Negative reviews has a negative Sentiment_Polarity and Positive revious has a positive Sentiment_Polarity).\n",
    "Most of the positive reviews are quite subjective (Sentiment_Subjectivity btween [0.4,0.8]), \n",
    "but the Negative comments have more subjectivity (people are given more subjective reason on why the don't like the App) \n"
   ]
  },
  {
   "cell_type": "code",
   "execution_count": 87,
   "id": "f34ea7fe-d1d1-49b4-96ac-c9bd3e3e341e",
   "metadata": {},
   "outputs": [
    {
     "name": "stderr",
     "output_type": "stream",
     "text": [
      "/Users/hocine/miniconda3/lib/python3.9/site-packages/seaborn/distributions.py:1106: UserWarning: Dataset has 0 variance; skipping density estimate. Pass `warn_singular=False` to disable this warning.\n",
      "  warnings.warn(msg, UserWarning)\n"
     ]
    },
    {
     "data": {
      "text/plain": [
       "<seaborn.axisgrid.FacetGrid at 0x7fb311a82400>"
      ]
     },
     "execution_count": 87,
     "metadata": {},
     "output_type": "execute_result"
    },
    {
     "data": {
      "image/png": "[encoded data removed]",
      "text/plain": [
       "<Figure size 435.625x360 with 1 Axes>"
      ]
     },
     "metadata": {},
     "output_type": "display_data"
    }
   ],
   "source": [
    "sns.displot(grouped_df, x='Sentiment_Subjectivity', y='Sentiment_Polarity', hue='Sentiment', kind=\"kde\", rug= True)\n"
   ]
  },
  {
   "cell_type": "markdown",
   "id": "1e94ee90-46f7-4402-88bc-29f4d6bc3d66",
   "metadata": {},
   "source": [
    "We can clearly see that Sentiment_Subjectivity of both Positive and Negative group have most values higher than 0.4 and less than 0.8"
   ]
  },
  {
   "cell_type": "code",
   "execution_count": null,
   "id": "bae9fc50-f079-476f-adc1-609982ab6515",
   "metadata": {},
   "outputs": [],
   "source": []
  },
  {
   "cell_type": "code",
   "execution_count": 88,
   "id": "91b37205-19b1-469b-be91-c811f05dc3db",
   "metadata": {},
   "outputs": [
    {
     "data": {
      "text/plain": [
       "<seaborn.axisgrid.FacetGrid at 0x7fb30f6af340>"
      ]
     },
     "execution_count": 88,
     "metadata": {},
     "output_type": "execute_result"
    },
    {
     "data": {
      "image/png": "[encoded data removed]",
      "text/plain": [
       "<Figure size 360x360 with 1 Axes>"
      ]
     },
     "metadata": {},
     "output_type": "display_data"
    }
   ],
   "source": [
    "sns.displot(grouped_df, x=\"Sentiment_Polarity\", y=\"Installs_new_val\")\n"
   ]
  },
  {
   "cell_type": "code",
   "execution_count": null,
   "id": "2a9c8170-6be8-466c-be91-db385c64bde4",
   "metadata": {},
   "outputs": [],
   "source": [
    "sns.displot(grouped_df, x=\"Sentiment_Polarity\", hue=\"Category\")\n"
   ]
  },
  {
   "cell_type": "code",
   "execution_count": null,
   "id": "8d41b176-2131-43e7-b24d-00f71a7449a8",
   "metadata": {},
   "outputs": [],
   "source": [
    "sns.displot(grouped_df, x='Sentiment_Subjectivity', y='Sentiment_Polarity', hue='Installs_new_val', kind=\"kde\", rug= True)\n"
   ]
  },
  {
   "cell_type": "code",
   "execution_count": null,
   "id": "4f3f7444-1670-4793-bc5f-c11e40e82f3d",
   "metadata": {},
   "outputs": [],
   "source": [
    "sns.displot(grouped_df, x='Sentiment_Subjectivity', y='Sentiment_Polarity', hue='Category', kind=\"kde\", rug= True)\n"
   ]
  },
  {
   "cell_type": "code",
   "execution_count": null,
   "id": "71378d71-4bdd-4648-bdb8-38892160a592",
   "metadata": {},
   "outputs": [],
   "source": []
  },
  {
   "cell_type": "code",
   "execution_count": null,
   "id": "20f3d052-d941-41c8-9f00-315b9ea2cb09",
   "metadata": {},
   "outputs": [],
   "source": []
  },
  {
   "cell_type": "code",
   "execution_count": null,
   "id": "7bb384c7-6040-42a0-8c9d-1c3c8ff7f0fd",
   "metadata": {},
   "outputs": [],
   "source": []
  },
  {
   "cell_type": "code",
   "execution_count": null,
   "id": "4457cbc0-ca1c-470d-b3bb-9503483ea75c",
   "metadata": {},
   "outputs": [],
   "source": []
  },
  {
   "cell_type": "code",
   "execution_count": null,
   "id": "197878f4-61ec-4294-890a-134dc8b764ae",
   "metadata": {},
   "outputs": [],
   "source": []
  },
  {
   "cell_type": "code",
   "execution_count": null,
   "id": "1349225a-a3aa-4985-b965-a43de6655176",
   "metadata": {},
   "outputs": [],
   "source": []
  },
  {
   "cell_type": "code",
   "execution_count": null,
   "id": "96f46f8b-d50b-45d6-823d-eff25032896c",
   "metadata": {},
   "outputs": [],
   "source": []
  },
  {
   "cell_type": "code",
   "execution_count": null,
   "id": "800ff57e-614c-497b-a60c-025f373fde43",
   "metadata": {},
   "outputs": [],
   "source": []
  },
  {
   "cell_type": "code",
   "execution_count": null,
   "id": "19258c78-3654-4d47-9829-140eab9dbe4d",
   "metadata": {},
   "outputs": [],
   "source": []
  },
  {
   "cell_type": "code",
   "execution_count": null,
   "id": "63ccf37d-1e01-4fbc-a56f-3b06e157ea47",
   "metadata": {},
   "outputs": [],
   "source": []
  },
  {
   "cell_type": "code",
   "execution_count": null,
   "id": "fd37ccdb-62d1-4351-a0fe-dc08b1df0dfe",
   "metadata": {},
   "outputs": [],
   "source": []
  },
  {
   "cell_type": "code",
   "execution_count": null,
   "id": "998b197f-c797-4cfe-8f2d-8c67cf2c743a",
   "metadata": {},
   "outputs": [],
   "source": []
  },
  {
   "cell_type": "code",
   "execution_count": null,
   "id": "5596843e-06e4-45ae-bca6-99582e3afb37",
   "metadata": {},
   "outputs": [],
   "source": []
  },
  {
   "cell_type": "code",
   "execution_count": null,
   "id": "1cb5002b-5756-47f7-8e3b-a5f43cf43121",
   "metadata": {},
   "outputs": [],
   "source": []
  },
  {
   "cell_type": "code",
   "execution_count": null,
   "id": "8e1d36ac-a771-4864-8ce6-76ddfd626635",
   "metadata": {},
   "outputs": [],
   "source": []
  },
  {
   "cell_type": "code",
   "execution_count": null,
   "id": "99bfe05e-1288-4a76-8aac-7e447dc49bca",
   "metadata": {},
   "outputs": [],
   "source": []
  },
  {
   "cell_type": "code",
   "execution_count": null,
   "id": "f7690181-08b7-40ee-a39f-5e976059a91f",
   "metadata": {},
   "outputs": [],
   "source": []
  },
  {
   "cell_type": "code",
   "execution_count": null,
   "id": "fc5294ab-2765-40b8-ac81-2e57a80e9f58",
   "metadata": {},
   "outputs": [],
   "source": []
  }
 ],
 "metadata": {
  "kernelspec": {
   "display_name": "Python 3 (ipykernel)",
   "language": "python",
   "name": "python3"
  },
  "language_info": {
   "codemirror_mode": {
    "name": "ipython",
    "version": 3
   },
   "file_extension": ".py",
   "mimetype": "text/x-python",
   "name": "python",
   "nbconvert_exporter": "python",
   "pygments_lexer": "ipython3",
   "version": "3.9.5"
  }
 },
 "nbformat": 4,
 "nbformat_minor": 5
}
